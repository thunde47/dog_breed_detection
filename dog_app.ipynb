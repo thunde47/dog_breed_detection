{
 "cells": [
  {
   "cell_type": "markdown",
   "metadata": {},
   "source": [
    "# Artificial Intelligence Nanodegree\n",
    "\n",
    "## Convolutional Neural Networks\n",
    "\n",
    "## Project: Write an Algorithm for a Dog Identification App \n",
    "\n",
    "---\n",
    "\n",
    "In this notebook, some template code has already been provided for you, and you will need to implement additional functionality to successfully complete this project. You will not need to modify the included code beyond what is requested. Sections that begin with **'(IMPLEMENTATION)'** in the header indicate that the following block of code will require additional functionality which you must provide. Instructions will be provided for each section, and the specifics of the implementation are marked in the code block with a 'TODO' statement. Please be sure to read the instructions carefully! \n",
    "\n",
    "> **Note**: Once you have completed all of the code implementations, you need to finalize your work by exporting the iPython Notebook as an HTML document. Before exporting the notebook to html, all of the code cells need to have been run so that reviewers can see the final implementation and output. You can then export the notebook by using the menu above and navigating to  \\n\",\n",
    "    \"**File -> Download as -> HTML (.html)**. Include the finished document along with this notebook as your submission.\n",
    "\n",
    "In addition to implementing code, there will be questions that you must answer which relate to the project and your implementation. Each section where you will answer a question is preceded by a **'Question X'** header. Carefully read each question and provide thorough answers in the following text boxes that begin with **'Answer:'**. Your project submission will be evaluated based on your answers to each of the questions and the implementation you provide.\n",
    "\n",
    ">**Note:** Code and Markdown cells can be executed using the **Shift + Enter** keyboard shortcut.  Markdown cells can be edited by double-clicking the cell to enter edit mode.\n",
    "\n",
    "The rubric contains _optional_ \"Stand Out Suggestions\" for enhancing the project beyond the minimum requirements. If you decide to pursue the \"Stand Out Suggestions\", you should include the code in this IPython notebook.\n",
    "\n",
    "\n",
    "\n",
    "---\n",
    "### Why We're Here \n",
    "\n",
    "In this notebook, you will make the first steps towards developing an algorithm that could be used as part of a mobile or web app.  At the end of this project, your code will accept any user-supplied image as input.  If a dog is detected in the image, it will provide an estimate of the dog's breed.  If a human is detected, it will provide an estimate of the dog breed that is most resembling.  The image below displays potential sample output of your finished project (... but we expect that each student's algorithm will behave differently!). \n",
    "\n",
    "![Sample Dog Output](images/sample_dog_output.png)\n",
    "\n",
    "In this real-world setting, you will need to piece together a series of models to perform different tasks; for instance, the algorithm that detects humans in an image will be different from the CNN that infers dog breed.  There are many points of possible failure, and no perfect algorithm exists.  Your imperfect solution will nonetheless create a fun user experience!\n",
    "\n",
    "### The Road Ahead\n",
    "\n",
    "We break the notebook into separate steps.  Feel free to use the links below to navigate the notebook.\n",
    "\n",
    "* [Step 0](#step0): Import Datasets\n",
    "* [Step 1](#step1): Detect Humans\n",
    "* [Step 2](#step2): Detect Dogs\n",
    "* [Step 3](#step3): Create a CNN to Classify Dog Breeds (from Scratch)\n",
    "* [Step 4](#step4): Use a CNN to Classify Dog Breeds (using Transfer Learning)\n",
    "* [Step 5](#step5): Create a CNN to Classify Dog Breeds (using Transfer Learning)\n",
    "* [Step 6](#step6): Write your Algorithm\n",
    "* [Step 7](#step7): Test Your Algorithm\n",
    "\n",
    "---\n",
    "<a id='step0'></a>\n",
    "## Step 0: Import Datasets\n",
    "\n",
    "### Import Dog Dataset\n",
    "\n",
    "In the code cell below, we import a dataset of dog images.  We populate a few variables through the use of the `load_files` function from the scikit-learn library:\n",
    "- `train_files`, `valid_files`, `test_files` - numpy arrays containing file paths to images\n",
    "- `train_targets`, `valid_targets`, `test_targets` - numpy arrays containing onehot-encoded classification labels \n",
    "- `dog_names` - list of string-valued dog breed names for translating labels"
   ]
  },
  {
   "cell_type": "code",
   "execution_count": 13,
   "metadata": {},
   "outputs": [
    {
     "name": "stdout",
     "output_type": "stream",
     "text": [
      "There are 133 total dog categories.\n",
      "There are 8351 total dog images.\n",
      "\n",
      "There are 6680 training dog images.\n",
      "There are 835 validation dog images.\n",
      "There are 836 test dog images.\n"
     ]
    }
   ],
   "source": [
    "from sklearn.datasets import load_files       \n",
    "from keras.utils import np_utils\n",
    "import numpy as np\n",
    "from glob import glob\n",
    "\n",
    "# define function to load train, test, and validation datasets\n",
    "def load_dataset(path):\n",
    "    data = load_files(path)\n",
    "    dog_files = np.array(data['filenames'])\n",
    "    dog_targets = np_utils.to_categorical(np.array(data['target']), 133)\n",
    "    return dog_files, dog_targets\n",
    "\n",
    "# load train, test, and validation datasets\n",
    "train_files, train_targets = load_dataset('dogImages/train')\n",
    "valid_files, valid_targets = load_dataset('dogImages/valid')\n",
    "test_files, test_targets = load_dataset('dogImages/test')\n",
    "\n",
    "# load list of dog names\n",
    "dog_names = [item[20:-1] for item in sorted(glob(\"dogImages/train/*/\"))]\n",
    "\n",
    "# print statistics about the dataset\n",
    "print('There are %d total dog categories.' % len(dog_names))\n",
    "print('There are %s total dog images.\\n' % len(np.hstack([train_files, valid_files, test_files])))\n",
    "print('There are %d training dog images.' % len(train_files))\n",
    "print('There are %d validation dog images.' % len(valid_files))\n",
    "print('There are %d test dog images.'% len(test_files))"
   ]
  },
  {
   "cell_type": "markdown",
   "metadata": {},
   "source": [
    "### Import Human Dataset\n",
    "\n",
    "In the code cell below, we import a dataset of human images, where the file paths are stored in the numpy array `human_files`."
   ]
  },
  {
   "cell_type": "code",
   "execution_count": 14,
   "metadata": {},
   "outputs": [
    {
     "name": "stdout",
     "output_type": "stream",
     "text": [
      "There are 13233 total human images.\n"
     ]
    }
   ],
   "source": [
    "import random\n",
    "random.seed(8675309)\n",
    "\n",
    "# load filenames in shuffled human dataset\n",
    "human_files = np.array(glob(\"lfw/*/*\"))\n",
    "random.shuffle(human_files)\n",
    "\n",
    "# print statistics about the dataset\n",
    "print('There are %d total human images.' % len(human_files))"
   ]
  },
  {
   "cell_type": "markdown",
   "metadata": {},
   "source": [
    "---\n",
    "<a id='step1'></a>\n",
    "## Step 1: Detect Humans\n",
    "\n",
    "We use OpenCV's implementation of [Haar feature-based cascade classifiers](http://docs.opencv.org/trunk/d7/d8b/tutorial_py_face_detection.html) to detect human faces in images.  OpenCV provides many pre-trained face detectors, stored as XML files on [github](https://github.com/opencv/opencv/tree/master/data/haarcascades).  We have downloaded one of these detectors and stored it in the `haarcascades` directory.\n",
    "\n",
    "In the next code cell, we demonstrate how to use this detector to find human faces in a sample image."
   ]
  },
  {
   "cell_type": "code",
   "execution_count": 15,
   "metadata": {},
   "outputs": [
    {
     "name": "stdout",
     "output_type": "stream",
     "text": [
      "Number of faces detected: 3\n"
     ]
    },
    {
     "data": {
      "image/png": "[encoded data removed]",
      "text/plain": [
       "<matplotlib.figure.Figure at 0x7f92cbf1ff28>"
      ]
     },
     "metadata": {},
     "output_type": "display_data"
    }
   ],
   "source": [
    "import cv2                \n",
    "import matplotlib.pyplot as plt                        \n",
    "%matplotlib inline                               \n",
    "\n",
    "# extract pre-trained face detector\n",
    "face_cascade = cv2.CascadeClassifier('haarcascades/haarcascade_frontalface_alt.xml')\n",
    "\n",
    "# load color (BGR) image\n",
    "img = cv2.imread(human_files[3])\n",
    "# convert BGR image to grayscale\n",
    "gray = cv2.cvtColor(img, cv2.COLOR_BGR2GRAY)\n",
    "\n",
    "# find faces in image\n",
    "faces = face_cascade.detectMultiScale(gray)\n",
    "\n",
    "# print number of faces detected in the image\n",
    "print('Number of faces detected:', len(faces))\n",
    "\n",
    "# get bounding box for each detected face\n",
    "for (x,y,w,h) in faces:\n",
    "    # add bounding box to color image\n",
    "    cv2.rectangle(img,(x,y),(x+w,y+h),(255,0,0),2)\n",
    "    \n",
    "# convert BGR image to RGB for plotting\n",
    "cv_rgb = cv2.cvtColor(img, cv2.COLOR_BGR2RGB)\n",
    "\n",
    "# display the image, along with bounding box\n",
    "plt.imshow(cv_rgb)\n",
    "plt.show()"
   ]
  },
  {
   "cell_type": "markdown",
   "metadata": {},
   "source": [
    "Before using any of the face detectors, it is standard procedure to convert the images to grayscale.  The `detectMultiScale` function executes the classifier stored in `face_cascade` and takes the grayscale image as a parameter.  \n",
    "\n",
    "In the above code, `faces` is a numpy array of detected faces, where each row corresponds to a detected face.  Each detected face is a 1D array with four entries that specifies the bounding box of the detected face.  The first two entries in the array (extracted in the above code as `x` and `y`) specify the horizontal and vertical positions of the top left corner of the bounding box.  The last two entries in the array (extracted here as `w` and `h`) specify the width and height of the box.\n",
    "\n",
    "### Write a Human Face Detector\n",
    "\n",
    "We can use this procedure to write a function that returns `True` if a human face is detected in an image and `False` otherwise.  This function, aptly named `face_detector`, takes a string-valued file path to an image as input and appears in the code block below."
   ]
  },
  {
   "cell_type": "code",
   "execution_count": 16,
   "metadata": {
    "collapsed": true
   },
   "outputs": [],
   "source": [
    "# returns \"True\" if face is detected in image stored at img_path\n",
    "def face_detector(img_path):\n",
    "    img = cv2.imread(img_path)\n",
    "    gray = cv2.cvtColor(img, cv2.COLOR_BGR2GRAY)\n",
    "    faces = face_cascade.detectMultiScale(gray)\n",
    "    return len(faces) > 0"
   ]
  },
  {
   "cell_type": "markdown",
   "metadata": {},
   "source": [
    "### (IMPLEMENTATION) Assess the Human Face Detector\n",
    "\n",
    "__Question 1:__ Use the code cell below to test the performance of the `face_detector` function.  \n",
    "- What percentage of the first 100 images in `human_files` have a detected human face?  \n",
    "- What percentage of the first 100 images in `dog_files` have a detected human face? \n",
    "\n",
    "Ideally, we would like 100% of human images with a detected face and 0% of dog images with a detected face.  You will see that our algorithm falls short of this goal, but still gives acceptable performance.  We extract the file paths for the first 100 images from each of the datasets and store them in the numpy arrays `human_files_short` and `dog_files_short`.\n",
    "\n",
    "__Answer:__ \n",
    "\n",
    "Percent of humans detected in humand faces = 99%\n",
    "\n",
    "Percent of humans detected in dog faces = 11%"
   ]
  },
  {
   "cell_type": "code",
   "execution_count": 17,
   "metadata": {},
   "outputs": [
    {
     "name": "stdout",
     "output_type": "stream",
     "text": [
      "99.0\n",
      "11.0\n"
     ]
    }
   ],
   "source": [
    "human_files_short = human_files[:100]\n",
    "dog_files_short = train_files[:100]\n",
    "# Do NOT modify the code above this line.\n",
    "humans_detected_in_humans=sum([1 if face_detector(face) else 0 for face in human_files_short])\n",
    "humans_detected_in_dogs=sum([1 if face_detector(face) else 0 for face in dog_files_short])\n",
    "print(humans_detected_in_humans/100.0 * 100.0)\n",
    "print(humans_detected_in_dogs/100.0 * 100.0)\n",
    "\n",
    "## TODO: Test the performance of the face_detector algorithm \n",
    "## on the images in human_files_short and dog_files_short."
   ]
  },
  {
   "cell_type": "markdown",
   "metadata": {},
   "source": [
    "__Question 2:__ This algorithmic choice necessitates that we communicate to the user that we accept human images only when they provide a clear view of a face (otherwise, we risk having unneccessarily frustrated users!). In your opinion, is this a reasonable expectation to pose on the user? If not, can you think of a way to detect humans in images that does not necessitate an image with a clearly presented face?\n",
    "\n",
    "__Answer:__\n",
    "\n",
    "We suggest the face detector from OpenCV as a potential way to detect human images in your algorithm, but you are free to explore other approaches, especially approaches that make use of deep learning :).  Please use the code cell below to design and test your own face detection algorithm.  If you decide to pursue this _optional_ task, report performance on each of the datasets."
   ]
  },
  {
   "cell_type": "code",
   "execution_count": 18,
   "metadata": {
    "collapsed": true
   },
   "outputs": [],
   "source": [
    "## (Optional) TODO: Report the performance of another  \n",
    "## face detection algorithm on the LFW dataset\n",
    "### Feel free to use as many code cells as needed."
   ]
  },
  {
   "cell_type": "markdown",
   "metadata": {},
   "source": [
    "---\n",
    "<a id='step2'></a>\n",
    "## Step 2: Detect Dogs\n",
    "\n",
    "In this section, we use a pre-trained [ResNet-50](http://ethereon.github.io/netscope/#/gist/db945b393d40bfa26006) model to detect dogs in images.  Our first line of code downloads the ResNet-50 model, along with weights that have been trained on [ImageNet](http://www.image-net.org/), a very large, very popular dataset used for image classification and other vision tasks.  ImageNet contains over 10 million URLs, each linking to an image containing an object from one of [1000 categories](https://gist.github.com/yrevar/942d3a0ac09ec9e5eb3a).  Given an image, this pre-trained ResNet-50 model returns a prediction (derived from the available categories in ImageNet) for the object that is contained in the image."
   ]
  },
  {
   "cell_type": "code",
   "execution_count": 19,
   "metadata": {
    "collapsed": true
   },
   "outputs": [],
   "source": [
    "from keras.applications.resnet50 import ResNet50\n",
    "\n",
    "# define ResNet50 model\n",
    "ResNet50_model = ResNet50(weights='imagenet')"
   ]
  },
  {
   "cell_type": "markdown",
   "metadata": {},
   "source": [
    "### Pre-process the Data\n",
    "\n",
    "When using TensorFlow as backend, Keras CNNs require a 4D array (which we'll also refer to as a 4D tensor) as input, with shape\n",
    "\n",
    "$$\n",
    "(\\text{nb_samples}, \\text{rows}, \\text{columns}, \\text{channels}),\n",
    "$$\n",
    "\n",
    "where `nb_samples` corresponds to the total number of images (or samples), and `rows`, `columns`, and `channels` correspond to the number of rows, columns, and channels for each image, respectively.  \n",
    "\n",
    "The `path_to_tensor` function below takes a string-valued file path to a color image as input and returns a 4D tensor suitable for supplying to a Keras CNN.  The function first loads the image and resizes it to a square image that is $224 \\times 224$ pixels.  Next, the image is converted to an array, which is then resized to a 4D tensor.  In this case, since we are working with color images, each image has three channels.  Likewise, since we are processing a single image (or sample), the returned tensor will always have shape\n",
    "\n",
    "$$\n",
    "(1, 224, 224, 3).\n",
    "$$\n",
    "\n",
    "The `paths_to_tensor` function takes a numpy array of string-valued image paths as input and returns a 4D tensor with shape \n",
    "\n",
    "$$\n",
    "(\\text{nb_samples}, 224, 224, 3).\n",
    "$$\n",
    "\n",
    "Here, `nb_samples` is the number of samples, or number of images, in the supplied array of image paths.  It is best to think of `nb_samples` as the number of 3D tensors (where each 3D tensor corresponds to a different image) in your dataset!"
   ]
  },
  {
   "cell_type": "code",
   "execution_count": 20,
   "metadata": {
    "collapsed": true
   },
   "outputs": [],
   "source": [
    "from keras.preprocessing import image                  \n",
    "from tqdm import tqdm\n",
    "\n",
    "def path_to_tensor(img_path):\n",
    "    # loads RGB image as PIL.Image.Image type\n",
    "    img = image.load_img(img_path, target_size=(224, 224))\n",
    "    # convert PIL.Image.Image type to 3D tensor with shape (224, 224, 3)\n",
    "    x = image.img_to_array(img)\n",
    "    # convert 3D tensor to 4D tensor with shape (1, 224, 224, 3) and return 4D tensor\n",
    "    return np.expand_dims(x, axis=0)\n",
    "\n",
    "def paths_to_tensor(img_paths):\n",
    "    list_of_tensors = [path_to_tensor(img_path) for img_path in tqdm(img_paths)]\n",
    "    return np.vstack(list_of_tensors)"
   ]
  },
  {
   "cell_type": "markdown",
   "metadata": {},
   "source": [
    "### Making Predictions with ResNet-50\n",
    "\n",
    "Getting the 4D tensor ready for ResNet-50, and for any other pre-trained model in Keras, requires some additional processing.  First, the RGB image is converted to BGR by reordering the channels.  All pre-trained models have the additional normalization step that the mean pixel (expressed in RGB as $[103.939, 116.779, 123.68]$ and calculated from all pixels in all images in ImageNet) must be subtracted from every pixel in each image.  This is implemented in the imported function `preprocess_input`.  If you're curious, you can check the code for `preprocess_input` [here](https://github.com/fchollet/keras/blob/master/keras/applications/imagenet_utils.py).\n",
    "\n",
    "Now that we have a way to format our image for supplying to ResNet-50, we are now ready to use the model to extract the predictions.  This is accomplished with the `predict` method, which returns an array whose $i$-th entry is the model's predicted probability that the image belongs to the $i$-th ImageNet category.  This is implemented in the `ResNet50_predict_labels` function below.\n",
    "\n",
    "By taking the argmax of the predicted probability vector, we obtain an integer corresponding to the model's predicted object class, which we can identify with an object category through the use of this [dictionary](https://gist.github.com/yrevar/942d3a0ac09ec9e5eb3a). "
   ]
  },
  {
   "cell_type": "code",
   "execution_count": 21,
   "metadata": {
    "collapsed": true
   },
   "outputs": [],
   "source": [
    "from keras.applications.resnet50 import preprocess_input, decode_predictions\n",
    "\n",
    "def ResNet50_predict_labels(img_path):\n",
    "    # returns prediction vector for image located at img_path\n",
    "    img = preprocess_input(path_to_tensor(img_path))\n",
    "    return np.argmax(ResNet50_model.predict(img))"
   ]
  },
  {
   "cell_type": "markdown",
   "metadata": {},
   "source": [
    "### Write a Dog Detector\n",
    "\n",
    "While looking at the [dictionary](https://gist.github.com/yrevar/942d3a0ac09ec9e5eb3a), you will notice that the categories corresponding to dogs appear in an uninterrupted sequence and correspond to dictionary keys 151-268, inclusive, to include all categories from `'Chihuahua'` to `'Mexican hairless'`.  Thus, in order to check to see if an image is predicted to contain a dog by the pre-trained ResNet-50 model, we need only check if the `ResNet50_predict_labels` function above returns a value between 151 and 268 (inclusive).\n",
    "\n",
    "We use these ideas to complete the `dog_detector` function below, which returns `True` if a dog is detected in an image (and `False` if not)."
   ]
  },
  {
   "cell_type": "code",
   "execution_count": 22,
   "metadata": {
    "collapsed": true
   },
   "outputs": [],
   "source": [
    "### returns \"True\" if a dog is detected in the image stored at img_path\n",
    "def dog_detector(img_path):\n",
    "    prediction = ResNet50_predict_labels(img_path)\n",
    "    return ((prediction <= 268) & (prediction >= 151)) "
   ]
  },
  {
   "cell_type": "markdown",
   "metadata": {},
   "source": [
    "### (IMPLEMENTATION) Assess the Dog Detector\n",
    "\n",
    "__Question 3:__ Use the code cell below to test the performance of your `dog_detector` function.  \n",
    "- What percentage of the images in `human_files_short` have a detected dog?  \n",
    "- What percentage of the images in `dog_files_short` have a detected dog?\n",
    "\n",
    "__Answer:__ \n",
    "\n",
    "Percent of dogs detected in humans = 0%\n",
    "\n",
    "Percent of dogs detecte in dogs = 100%"
   ]
  },
  {
   "cell_type": "code",
   "execution_count": 23,
   "metadata": {},
   "outputs": [
    {
     "name": "stdout",
     "output_type": "stream",
     "text": [
      "0.0\n",
      "100.0\n"
     ]
    }
   ],
   "source": [
    "### TODO: Test the performance of the dog_detector function\n",
    "### on the images in human_files_short and dog_files_short.\n",
    "dogs_detected_in_humans=sum([1 if dog_detector(face) else 0 for face in human_files_short])\n",
    "dogs_detected_in_dogs=sum([1 if dog_detector(face) else 0 for face in dog_files_short])\n",
    "print(dogs_detected_in_humans/100.0 * 100.0)\n",
    "print(dogs_detected_in_dogs/100.0 * 100.0)"
   ]
  },
  {
   "cell_type": "markdown",
   "metadata": {},
   "source": [
    "---\n",
    "<a id='step3'></a>\n",
    "## Step 3: Create a CNN to Classify Dog Breeds (from Scratch)\n",
    "\n",
    "Now that we have functions for detecting humans and dogs in images, we need a way to predict breed from images.  In this step, you will create a CNN that classifies dog breeds.  You must create your CNN _from scratch_ (so, you can't use transfer learning _yet_!), and you must attain a test accuracy of at least 1%.  In Step 5 of this notebook, you will have the opportunity to use transfer learning to create a CNN that attains greatly improved accuracy.\n",
    "\n",
    "Be careful with adding too many trainable layers!  More parameters means longer training, which means you are more likely to need a GPU to accelerate the training process.  Thankfully, Keras provides a handy estimate of the time that each epoch is likely to take; you can extrapolate this estimate to figure out how long it will take for your algorithm to train. \n",
    "\n",
    "We mention that the task of assigning breed to dogs from images is considered exceptionally challenging.  To see why, consider that *even a human* would have great difficulty in distinguishing between a Brittany and a Welsh Springer Spaniel.  \n",
    "\n",
    "Brittany | Welsh Springer Spaniel\n",
    "- | - \n",
    "<img src=\"images/Brittany_02625.jpg\" width=\"100\"> | <img src=\"images/Welsh_springer_spaniel_08203.jpg\" width=\"200\">\n",
    "\n",
    "It is not difficult to find other dog breed pairs with minimal inter-class variation (for instance, Curly-Coated Retrievers and American Water Spaniels).  \n",
    "\n",
    "Curly-Coated Retriever | American Water Spaniel\n",
    "- | -\n",
    "<img src=\"images/Curly-coated_retriever_03896.jpg\" width=\"200\"> | <img src=\"images/American_water_spaniel_00648.jpg\" width=\"200\">\n",
    "\n",
    "\n",
    "Likewise, recall that labradors come in yellow, chocolate, and black.  Your vision-based algorithm will have to conquer this high intra-class variation to determine how to classify all of these different shades as the same breed.  \n",
    "\n",
    "Yellow Labrador | Chocolate Labrador | Black Labrador\n",
    "- | -\n",
    "<img src=\"images/Labrador_retriever_06457.jpg\" width=\"150\"> | <img src=\"images/Labrador_retriever_06455.jpg\" width=\"240\"> | <img src=\"images/Labrador_retriever_06449.jpg\" width=\"220\">\n",
    "\n",
    "We also mention that random chance presents an exceptionally low bar: setting aside the fact that the classes are slightly imabalanced, a random guess will provide a correct answer roughly 1 in 133 times, which corresponds to an accuracy of less than 1%.  \n",
    "\n",
    "Remember that the practice is far ahead of the theory in deep learning.  Experiment with many different architectures, and trust your intuition.  And, of course, have fun! \n",
    "\n",
    "### Pre-process the Data\n",
    "\n",
    "We rescale the images by dividing every pixel in every image by 255."
   ]
  },
  {
   "cell_type": "code",
   "execution_count": 18,
   "metadata": {
    "scrolled": true
   },
   "outputs": [
    {
     "name": "stderr",
     "output_type": "stream",
     "text": [
      "100%|██████████| 6680/6680 [00:53<00:00, 125.56it/s]\n",
      "100%|██████████| 835/835 [00:05<00:00, 141.06it/s]\n",
      "100%|██████████| 836/836 [00:05<00:00, 142.17it/s]\n"
     ]
    }
   ],
   "source": [
    "from PIL import ImageFile                            \n",
    "ImageFile.LOAD_TRUNCATED_IMAGES = True                 \n",
    "\n",
    "# pre-process the data for Keras\n",
    "train_tensors = paths_to_tensor(train_files).astype('float32')/255\n",
    "valid_tensors = paths_to_tensor(valid_files).astype('float32')/255\n",
    "test_tensors = paths_to_tensor(test_files).astype('float32')/255"
   ]
  },
  {
   "cell_type": "code",
   "execution_count": 14,
   "metadata": {
    "collapsed": true
   },
   "outputs": [],
   "source": [
    "#Augmenting images\n",
    "from keras.preprocessing.image import ImageDataGenerator\n",
    "datagen_train = ImageDataGenerator(\n",
    "    width_shift_range=0.1,  # randomly shift images horizontally (10% of total width)\n",
    "    height_shift_range=0.1,  # randomly shift images vertically (10% of total height)\n",
    "    horizontal_flip=True) # randomly flip images horizontally\n",
    "\n",
    "datagen_valid = ImageDataGenerator(\n",
    "    width_shift_range=0.1,  # randomly shift images horizontally (10% of total width)\n",
    "    height_shift_range=0.1,  # randomly shift images vertically (10% of total height)\n",
    "    horizontal_flip=True) # randomly flip images horizontally\n",
    "\n",
    "datagen_train.fit(train_tensors)\n",
    "datagen_valid.fit(valid_tensors)\n"
   ]
  },
  {
   "cell_type": "markdown",
   "metadata": {},
   "source": [
    "### (IMPLEMENTATION) Model Architecture\n",
    "\n",
    "Create a CNN to classify dog breed.  At the end of your code cell block, summarize the layers of your model by executing the line:\n",
    "    \n",
    "        model.summary()\n",
    "\n",
    "We have imported some Python modules to get you started, but feel free to import as many modules as you need.  If you end up getting stuck, here's a hint that specifies a model that trains relatively fast on CPU and attains >1% test accuracy in 5 epochs:\n",
    "\n",
    "![Sample CNN](images/sample_cnn.png)\n",
    "           \n",
    "__Question 4:__ Outline the steps you took to get to your final CNN architecture and your reasoning at each step.  If you chose to use the hinted architecture above, describe why you think that CNN architecture should work well for the image classification task.\n",
    "\n",
    "__Answer:__ "
   ]
  },
  {
   "cell_type": "code",
   "execution_count": 27,
   "metadata": {},
   "outputs": [
    {
     "name": "stdout",
     "output_type": "stream",
     "text": [
      "_________________________________________________________________\n",
      "Layer (type)                 Output Shape              Param #   \n",
      "=================================================================\n",
      "conv2d_6 (Conv2D)            (None, 223, 223, 16)      208       \n",
      "_________________________________________________________________\n",
      "max_pooling2d_6 (MaxPooling2 (None, 111, 111, 16)      0         \n",
      "_________________________________________________________________\n",
      "global_average_pooling2d_4 ( (None, 16)                0         \n",
      "_________________________________________________________________\n",
      "dense_3 (Dense)              (None, 133)               2261      \n",
      "=================================================================\n",
      "Total params: 2,469\n",
      "Trainable params: 2,469\n",
      "Non-trainable params: 0\n",
      "_________________________________________________________________\n"
     ]
    }
   ],
   "source": [
    "#Scratch 0\n",
    "from keras.layers import Conv2D, MaxPooling2D, GlobalAveragePooling2D\n",
    "from keras.layers import Dropout, Flatten, Dense\n",
    "from keras.models import Sequential\n",
    "\n",
    "model = Sequential()\n",
    "\n",
    "### TODO: Define your architecture.\n",
    "#param = filters * kerne_size * kernel_size * channels\n",
    "model.add(Conv2D(filters=16, kernel_size=2, padding='same', activation='relu', input_shape=(224, 224, 3)))\n",
    "model.add(MaxPooling2D(pool_size=2))\n",
    "model.add(GlobalAveragePooling2D())\n",
    "#model.add(Flatten())\n",
    "model.add(Dense(133, activation='softmax'))\n",
    "\n",
    "model.summary()"
   ]
  },
  {
   "cell_type": "markdown",
   "metadata": {},
   "source": [
    "### Compile the Model"
   ]
  },
  {
   "cell_type": "code",
   "execution_count": 23,
   "metadata": {
    "collapsed": true
   },
   "outputs": [],
   "source": [
    "model.compile(optimizer='rmsprop', loss='categorical_crossentropy', metrics=['accuracy'])"
   ]
  },
  {
   "cell_type": "markdown",
   "metadata": {},
   "source": [
    "### (IMPLEMENTATION) Train the Model\n",
    "\n",
    "Train your model in the code cell below.  Use model checkpointing to save the model that attains the best validation loss.\n",
    "\n",
    "You are welcome to [augment the training data](https://blog.keras.io/building-powerful-image-classification-models-using-very-little-data.html), but this is not a requirement. "
   ]
  },
  {
   "cell_type": "code",
   "execution_count": 24,
   "metadata": {},
   "outputs": [
    {
     "name": "stdout",
     "output_type": "stream",
     "text": [
      "Train on 6680 samples, validate on 835 samples\n",
      "Epoch 1/10\n",
      "6660/6680 [============================>.] - ETA: 0s - loss: 4.8871 - acc: 0.0065Epoch 00000: val_loss improved from inf to 4.87658, saving model to saved_models/weights.best.from_scratch.hdf5\n",
      "6680/6680 [==============================] - 16s - loss: 4.8870 - acc: 0.0064 - val_loss: 4.8766 - val_acc: 0.0168\n",
      "Epoch 2/10\n",
      "6660/6680 [============================>.] - ETA: 0s - loss: 4.8719 - acc: 0.0096Epoch 00001: val_loss improved from 4.87658 to 4.86773, saving model to saved_models/weights.best.from_scratch.hdf5\n",
      "6680/6680 [==============================] - 16s - loss: 4.8718 - acc: 0.0096 - val_loss: 4.8677 - val_acc: 0.0132\n",
      "Epoch 3/10\n",
      "6660/6680 [============================>.] - ETA: 0s - loss: 4.8650 - acc: 0.0128Epoch 00002: val_loss improved from 4.86773 to 4.86497, saving model to saved_models/weights.best.from_scratch.hdf5\n",
      "6680/6680 [==============================] - 16s - loss: 4.8651 - acc: 0.0130 - val_loss: 4.8650 - val_acc: 0.0144\n",
      "Epoch 4/10\n",
      "6660/6680 [============================>.] - ETA: 0s - loss: 4.8623 - acc: 0.0140Epoch 00003: val_loss improved from 4.86497 to 4.86366, saving model to saved_models/weights.best.from_scratch.hdf5\n",
      "6680/6680 [==============================] - 16s - loss: 4.8623 - acc: 0.0139 - val_loss: 4.8637 - val_acc: 0.0144\n",
      "Epoch 5/10\n",
      "6660/6680 [============================>.] - ETA: 0s - loss: 4.8595 - acc: 0.0138Epoch 00004: val_loss improved from 4.86366 to 4.86186, saving model to saved_models/weights.best.from_scratch.hdf5\n",
      "6680/6680 [==============================] - 16s - loss: 4.8595 - acc: 0.0139 - val_loss: 4.8619 - val_acc: 0.0132\n",
      "Epoch 6/10\n",
      "6660/6680 [============================>.] - ETA: 0s - loss: 4.8568 - acc: 0.0150Epoch 00005: val_loss improved from 4.86186 to 4.86041, saving model to saved_models/weights.best.from_scratch.hdf5\n",
      "6680/6680 [==============================] - 16s - loss: 4.8567 - acc: 0.0150 - val_loss: 4.8604 - val_acc: 0.0168\n",
      "Epoch 7/10\n",
      "6660/6680 [============================>.] - ETA: 0s - loss: 4.8536 - acc: 0.0168Epoch 00006: val_loss improved from 4.86041 to 4.85833, saving model to saved_models/weights.best.from_scratch.hdf5\n",
      "6680/6680 [==============================] - 16s - loss: 4.8534 - acc: 0.0168 - val_loss: 4.8583 - val_acc: 0.0180\n",
      "Epoch 8/10\n",
      "6660/6680 [============================>.] - ETA: 0s - loss: 4.8495 - acc: 0.0201Epoch 00007: val_loss improved from 4.85833 to 4.85559, saving model to saved_models/weights.best.from_scratch.hdf5\n",
      "6680/6680 [==============================] - 16s - loss: 4.8494 - acc: 0.0201 - val_loss: 4.8556 - val_acc: 0.0192\n",
      "Epoch 9/10\n",
      "6660/6680 [============================>.] - ETA: 0s - loss: 4.8448 - acc: 0.0201Epoch 00008: val_loss improved from 4.85559 to 4.85282, saving model to saved_models/weights.best.from_scratch.hdf5\n",
      "6680/6680 [==============================] - 16s - loss: 4.8447 - acc: 0.0201 - val_loss: 4.8528 - val_acc: 0.0204\n",
      "Epoch 10/10\n",
      "6660/6680 [============================>.] - ETA: 0s - loss: 4.8403 - acc: 0.0186Epoch 00009: val_loss improved from 4.85282 to 4.84984, saving model to saved_models/weights.best.from_scratch.hdf5\n",
      "6680/6680 [==============================] - 16s - loss: 4.8404 - acc: 0.0186 - val_loss: 4.8498 - val_acc: 0.0204\n"
     ]
    },
    {
     "data": {
      "text/plain": [
       "<keras.callbacks.History at 0x7fb718caddd8>"
      ]
     },
     "execution_count": 24,
     "metadata": {},
     "output_type": "execute_result"
    }
   ],
   "source": [
    "from keras.callbacks import ModelCheckpoint  \n",
    "\n",
    "### TODO: specify the number of epochs that you would like to use to train the model.\n",
    "\n",
    "epochs = 10\n",
    "\n",
    "### Do NOT modify the code below this line.\n",
    "\n",
    "checkpointer = ModelCheckpoint(filepath='saved_models/weights.best.from_scratch.hdf5', \n",
    "                               verbose=1, save_best_only=True)\n",
    "\n",
    "model.fit(train_tensors, train_targets, \n",
    "          validation_data=(valid_tensors, valid_targets),\n",
    "          epochs=epochs, batch_size=20, callbacks=[checkpointer], verbose=1)"
   ]
  },
  {
   "cell_type": "markdown",
   "metadata": {},
   "source": [
    "### Load the Model with the Best Validation Loss"
   ]
  },
  {
   "cell_type": "code",
   "execution_count": 25,
   "metadata": {
    "collapsed": true
   },
   "outputs": [],
   "source": [
    "model.load_weights('saved_models/weights.best.from_scratch.hdf5')"
   ]
  },
  {
   "cell_type": "markdown",
   "metadata": {},
   "source": [
    "### Test the Model\n",
    "\n",
    "Try out your model on the test dataset of dog images.  Ensure that your test accuracy is greater than 1%."
   ]
  },
  {
   "cell_type": "code",
   "execution_count": 26,
   "metadata": {},
   "outputs": [
    {
     "name": "stdout",
     "output_type": "stream",
     "text": [
      "Test accuracy: 1.4354%\n"
     ]
    }
   ],
   "source": [
    "# get index of predicted dog breed for each image in test set\n",
    "dog_breed_predictions = [np.argmax(model.predict(np.expand_dims(tensor, axis=0))) for tensor in test_tensors]\n",
    "\n",
    "# report test accuracy\n",
    "test_accuracy = 100*np.sum(np.array(dog_breed_predictions)==np.argmax(test_targets, axis=1))/len(dog_breed_predictions)\n",
    "print('Test accuracy: %.4f%%' % test_accuracy)"
   ]
  },
  {
   "cell_type": "code",
   "execution_count": 28,
   "metadata": {
    "scrolled": true
   },
   "outputs": [
    {
     "name": "stdout",
     "output_type": "stream",
     "text": [
      "_________________________________________________________________\n",
      "Layer (type)                 Output Shape              Param #   \n",
      "=================================================================\n",
      "conv2d_7 (Conv2D)            (None, 223, 223, 16)      208       \n",
      "_________________________________________________________________\n",
      "max_pooling2d_7 (MaxPooling2 (None, 111, 111, 16)      0         \n",
      "_________________________________________________________________\n",
      "global_average_pooling2d_5 ( (None, 16)                0         \n",
      "_________________________________________________________________\n",
      "dense_4 (Dense)              (None, 133)               2261      \n",
      "=================================================================\n",
      "Total params: 2,469\n",
      "Trainable params: 2,469\n",
      "Non-trainable params: 0\n",
      "_________________________________________________________________\n",
      "Train on 6680 samples, validate on 835 samples\n",
      "Epoch 1/10\n",
      "6660/6680 [============================>.] - ETA: 0s - loss: 4.8866 - acc: 0.0086Epoch 00000: val_loss improved from inf to 4.87437, saving model to saved_models/weights.best.from_scratch1.hdf5\n",
      "6680/6680 [==============================] - 16s - loss: 4.8866 - acc: 0.0087 - val_loss: 4.8744 - val_acc: 0.0144\n",
      "Epoch 2/10\n",
      "6660/6680 [============================>.] - ETA: 0s - loss: 4.8704 - acc: 0.0096Epoch 00001: val_loss improved from 4.87437 to 4.86602, saving model to saved_models/weights.best.from_scratch1.hdf5\n",
      "6680/6680 [==============================] - 16s - loss: 4.8703 - acc: 0.0096 - val_loss: 4.8660 - val_acc: 0.0108\n",
      "Epoch 3/10\n",
      "6660/6680 [============================>.] - ETA: 0s - loss: 4.8639 - acc: 0.0134Epoch 00002: val_loss improved from 4.86602 to 4.86329, saving model to saved_models/weights.best.from_scratch1.hdf5\n",
      "6680/6680 [==============================] - 16s - loss: 4.8639 - acc: 0.0133 - val_loss: 4.8633 - val_acc: 0.0132\n",
      "Epoch 4/10\n",
      "6660/6680 [============================>.] - ETA: 0s - loss: 4.8599 - acc: 0.0122Epoch 00003: val_loss improved from 4.86329 to 4.86116, saving model to saved_models/weights.best.from_scratch1.hdf5\n",
      "6680/6680 [==============================] - 16s - loss: 4.8600 - acc: 0.0121 - val_loss: 4.8612 - val_acc: 0.0192\n",
      "Epoch 5/10\n",
      "6660/6680 [============================>.] - ETA: 0s - loss: 4.8561 - acc: 0.0144Epoch 00004: val_loss improved from 4.86116 to 4.85842, saving model to saved_models/weights.best.from_scratch1.hdf5\n",
      "6680/6680 [==============================] - 16s - loss: 4.8562 - acc: 0.0144 - val_loss: 4.8584 - val_acc: 0.0180\n",
      "Epoch 6/10\n",
      "6660/6680 [============================>.] - ETA: 0s - loss: 4.8523 - acc: 0.0141Epoch 00005: val_loss improved from 4.85842 to 4.85601, saving model to saved_models/weights.best.from_scratch1.hdf5\n",
      "6680/6680 [==============================] - 16s - loss: 4.8523 - acc: 0.0141 - val_loss: 4.8560 - val_acc: 0.0168\n",
      "Epoch 7/10\n",
      "6660/6680 [============================>.] - ETA: 0s - loss: 4.8470 - acc: 0.0167Epoch 00006: val_loss improved from 4.85601 to 4.85263, saving model to saved_models/weights.best.from_scratch1.hdf5\n",
      "6680/6680 [==============================] - 16s - loss: 4.8468 - acc: 0.0166 - val_loss: 4.8526 - val_acc: 0.0132\n",
      "Epoch 8/10\n",
      "6660/6680 [============================>.] - ETA: 0s - loss: 4.8418 - acc: 0.0176Epoch 00007: val_loss improved from 4.85263 to 4.84939, saving model to saved_models/weights.best.from_scratch1.hdf5\n",
      "6680/6680 [==============================] - 16s - loss: 4.8415 - acc: 0.0175 - val_loss: 4.8494 - val_acc: 0.0156\n",
      "Epoch 9/10\n",
      "6660/6680 [============================>.] - ETA: 0s - loss: 4.8354 - acc: 0.0162Epoch 00008: val_loss improved from 4.84939 to 4.84510, saving model to saved_models/weights.best.from_scratch1.hdf5\n",
      "6680/6680 [==============================] - 16s - loss: 4.8354 - acc: 0.0162 - val_loss: 4.8451 - val_acc: 0.0156\n",
      "Epoch 10/10\n",
      "6660/6680 [============================>.] - ETA: 0s - loss: 4.8294 - acc: 0.0176Epoch 00009: val_loss improved from 4.84510 to 4.84179, saving model to saved_models/weights.best.from_scratch1.hdf5\n",
      "6680/6680 [==============================] - 16s - loss: 4.8295 - acc: 0.0177 - val_loss: 4.8418 - val_acc: 0.0132\n",
      "Test accuracy: 1.5550%\n"
     ]
    }
   ],
   "source": [
    "#Scratch 1\n",
    "best_model = 'saved_models/weights.best.from_scratch1.hdf5'\n",
    "from keras.layers import Conv2D, MaxPooling2D, GlobalAveragePooling2D\n",
    "from keras.layers import Dropout, Flatten, Dense\n",
    "from keras.models import Sequential\n",
    "\n",
    "model = Sequential()\n",
    "\n",
    "### TODO: Define your architecture.\n",
    "#param = filters * kerne_size * kernel_size * channels\n",
    "model.add(Conv2D(filters=16, kernel_size=2, padding='valid', activation='relu', input_shape=(224, 224, 3)))\n",
    "model.add(MaxPooling2D(pool_size=2))\n",
    "model.add(GlobalAveragePooling2D())\n",
    "#model.add(Flatten())\n",
    "model.add(Dense(133, activation='softmax'))\n",
    "\n",
    "model.summary()\n",
    "\n",
    "model.compile(optimizer='rmsprop', loss='categorical_crossentropy', metrics=['accuracy'])\n",
    "from keras.callbacks import ModelCheckpoint  \n",
    "\n",
    "### TODO: specify the number of epochs that you would like to use to train the model.\n",
    "\n",
    "epochs = 10\n",
    "\n",
    "### Do NOT modify the code below this line.\n",
    "\n",
    "checkpointer = ModelCheckpoint(filepath=best_model, \n",
    "                               verbose=1, save_best_only=True)\n",
    "\n",
    "model.fit(train_tensors, train_targets, \n",
    "          validation_data=(valid_tensors, valid_targets),\n",
    "          epochs=epochs, batch_size=20, callbacks=[checkpointer], verbose=1)\n",
    "\n",
    "model.load_weights(best_model)\n",
    "# get index of predicted dog breed for each image in test set\n",
    "dog_breed_predictions = [np.argmax(model.predict(np.expand_dims(tensor, axis=0))) for tensor in test_tensors]\n",
    "\n",
    "# report test accuracy\n",
    "test_accuracy = 100*np.sum(np.array(dog_breed_predictions)==np.argmax(test_targets, axis=1))/len(dog_breed_predictions)\n",
    "print('Test accuracy: %.4f%%' % test_accuracy)"
   ]
  },
  {
   "cell_type": "code",
   "execution_count": 35,
   "metadata": {
    "scrolled": true
   },
   "outputs": [
    {
     "name": "stdout",
     "output_type": "stream",
     "text": [
      "_________________________________________________________________\n",
      "Layer (type)                 Output Shape              Param #   \n",
      "=================================================================\n",
      "conv2d_10 (Conv2D)           (None, 223, 223, 16)      208       \n",
      "_________________________________________________________________\n",
      "max_pooling2d_10 (MaxPooling (None, 111, 111, 16)      0         \n",
      "_________________________________________________________________\n",
      "global_average_pooling2d_8 ( (None, 16)                0         \n",
      "_________________________________________________________________\n",
      "dense_7 (Dense)              (None, 133)               2261      \n",
      "=================================================================\n",
      "Total params: 2,469\n",
      "Trainable params: 2,469\n",
      "Non-trainable params: 0\n",
      "_________________________________________________________________\n",
      "Train on 6680 samples, validate on 835 samples\n",
      "Epoch 1/10\n",
      "6660/6680 [============================>.] - ETA: 0s - loss: 482.3799 - acc: 0.0101Epoch 00000: val_loss improved from inf to 4.88977, saving model to saved_models/weights.best.from_scratch2.hdf5\n",
      "6680/6680 [==============================] - 19s - loss: 480.9503 - acc: 0.0100 - val_loss: 4.8898 - val_acc: 0.0108\n",
      "Epoch 2/10\n",
      "6660/6680 [============================>.] - ETA: 0s - loss: 4.8857 - acc: 0.0107Epoch 00001: val_loss improved from 4.88977 to 4.87885, saving model to saved_models/weights.best.from_scratch2.hdf5\n",
      "6680/6680 [==============================] - 19s - loss: 4.8857 - acc: 0.0106 - val_loss: 4.8788 - val_acc: 0.0108\n",
      "Epoch 3/10\n",
      "6660/6680 [============================>.] - ETA: 0s - loss: 4.8763 - acc: 0.0116Epoch 00002: val_loss improved from 4.87885 to 4.87526, saving model to saved_models/weights.best.from_scratch2.hdf5\n",
      "6680/6680 [==============================] - 19s - loss: 4.8764 - acc: 0.0115 - val_loss: 4.8753 - val_acc: 0.0108\n",
      "Epoch 4/10\n",
      "6660/6680 [============================>.] - ETA: 0s - loss: 4.8725 - acc: 0.0116Epoch 00003: val_loss improved from 4.87526 to 4.87282, saving model to saved_models/weights.best.from_scratch2.hdf5\n",
      "6680/6680 [==============================] - 19s - loss: 4.8725 - acc: 0.0115 - val_loss: 4.8728 - val_acc: 0.0108\n",
      "Epoch 5/10\n",
      "6660/6680 [============================>.] - ETA: 0s - loss: 4.8697 - acc: 0.0114Epoch 00004: val_loss improved from 4.87282 to 4.87112, saving model to saved_models/weights.best.from_scratch2.hdf5\n",
      "6680/6680 [==============================] - 19s - loss: 4.8697 - acc: 0.0115 - val_loss: 4.8711 - val_acc: 0.0108\n",
      "Epoch 6/10\n",
      "6660/6680 [============================>.] - ETA: 0s - loss: 4.8678 - acc: 0.0114Epoch 00005: val_loss improved from 4.87112 to 4.86996, saving model to saved_models/weights.best.from_scratch2.hdf5\n",
      "6680/6680 [==============================] - 19s - loss: 4.8679 - acc: 0.0115 - val_loss: 4.8700 - val_acc: 0.0108\n",
      "Epoch 7/10\n",
      "6660/6680 [============================>.] - ETA: 0s - loss: 4.8663 - acc: 0.0114Epoch 00006: val_loss improved from 4.86996 to 4.86919, saving model to saved_models/weights.best.from_scratch2.hdf5\n",
      "6680/6680 [==============================] - 19s - loss: 4.8664 - acc: 0.0115 - val_loss: 4.8692 - val_acc: 0.0108\n",
      "Epoch 8/10\n",
      "6660/6680 [============================>.] - ETA: 0s - loss: 4.8651 - acc: 0.0116Epoch 00007: val_loss improved from 4.86919 to 4.86877, saving model to saved_models/weights.best.from_scratch2.hdf5\n",
      "6680/6680 [==============================] - 19s - loss: 4.8653 - acc: 0.0115 - val_loss: 4.8688 - val_acc: 0.0108\n",
      "Epoch 9/10\n",
      "6660/6680 [============================>.] - ETA: 0s - loss: 4.8644 - acc: 0.0116Epoch 00008: val_loss improved from 4.86877 to 4.86853, saving model to saved_models/weights.best.from_scratch2.hdf5\n",
      "6680/6680 [==============================] - 19s - loss: 4.8646 - acc: 0.0115 - val_loss: 4.8685 - val_acc: 0.0108\n",
      "Epoch 10/10\n",
      "6660/6680 [============================>.] - ETA: 0s - loss: 4.8643 - acc: 0.0116Epoch 00009: val_loss improved from 4.86853 to 4.86847, saving model to saved_models/weights.best.from_scratch2.hdf5\n",
      "6680/6680 [==============================] - 19s - loss: 4.8641 - acc: 0.0115 - val_loss: 4.8685 - val_acc: 0.0108\n",
      "Test accuracy: 1.1962%\n"
     ]
    }
   ],
   "source": [
    "#Scratch 2\n",
    "best_model = 'saved_models/weights.best.from_scratch2.hdf5'\n",
    "from keras.layers import Conv2D, MaxPooling2D, GlobalAveragePooling2D\n",
    "from keras.layers import Dropout, Flatten, Dense\n",
    "from keras.models import Sequential\n",
    "from keras import regularizers\n",
    "\n",
    "model = Sequential()\n",
    "\n",
    "### TODO: Define your architecture.\n",
    "#param = filters * kerne_size * kernel_size * channels\n",
    "model.add(Conv2D(filters=16, kernel_size=2, strides=(1, 1), padding='valid', \n",
    "                 kernel_initializer='glorot_uniform', kernel_constraint=None,kernel_regularizer=None,\n",
    "                 data_format=None, dilation_rate=(1, 1), activation='relu', activity_regularizer=regularizers.l2(0.01), \n",
    "                 use_bias=True, bias_initializer='zeros', bias_regularizer=None, \n",
    "                 bias_constraint=None, input_shape=(224,224,3)))\n",
    "                \n",
    "\n",
    "model.add(MaxPooling2D(pool_size=2))\n",
    "model.add(GlobalAveragePooling2D())\n",
    "#model.add(Flatten())\n",
    "model.add(Dense(133, activation='softmax'))\n",
    "\n",
    "model.summary()\n",
    "\n",
    "model.compile(optimizer='rmsprop', loss='categorical_crossentropy', metrics=['accuracy'])\n",
    "from keras.callbacks import ModelCheckpoint  \n",
    "\n",
    "### TODO: specify the number of epochs that you would like to use to train the model.\n",
    "\n",
    "epochs = 10\n",
    "\n",
    "### Do NOT modify the code below this line.\n",
    "\n",
    "checkpointer = ModelCheckpoint(filepath=best_model, \n",
    "                               verbose=1, save_best_only=True)\n",
    "\n",
    "model.fit(train_tensors, train_targets, \n",
    "          validation_data=(valid_tensors, valid_targets),\n",
    "          epochs=epochs, batch_size=20, callbacks=[checkpointer], verbose=1)\n",
    "\n",
    "model.load_weights(best_model)\n",
    "# get index of predicted dog breed for each image in test set\n",
    "dog_breed_predictions = [np.argmax(model.predict(np.expand_dims(tensor, axis=0))) for tensor in test_tensors]\n",
    "\n",
    "# report test accuracy\n",
    "test_accuracy = 100*np.sum(np.array(dog_breed_predictions)==np.argmax(test_targets, axis=1))/len(dog_breed_predictions)\n",
    "print('Test accuracy: %.4f%%' % test_accuracy)"
   ]
  },
  {
   "cell_type": "code",
   "execution_count": 36,
   "metadata": {
    "scrolled": true
   },
   "outputs": [
    {
     "name": "stdout",
     "output_type": "stream",
     "text": [
      "_________________________________________________________________\n",
      "Layer (type)                 Output Shape              Param #   \n",
      "=================================================================\n",
      "conv2d_11 (Conv2D)           (None, 223, 223, 16)      208       \n",
      "_________________________________________________________________\n",
      "max_pooling2d_11 (MaxPooling (None, 111, 111, 16)      0         \n",
      "_________________________________________________________________\n",
      "global_average_pooling2d_9 ( (None, 16)                0         \n",
      "_________________________________________________________________\n",
      "dense_8 (Dense)              (None, 133)               2261      \n",
      "=================================================================\n",
      "Total params: 2,469\n",
      "Trainable params: 2,469\n",
      "Non-trainable params: 0\n",
      "_________________________________________________________________\n",
      "Train on 6680 samples, validate on 835 samples\n",
      "Epoch 1/10\n",
      "6660/6680 [============================>.] - ETA: 0s - loss: 1042.9788 - acc: 0.0081Epoch 00000: val_loss improved from inf to 4.89182, saving model to saved_models/weights.best.from_scratch3.hdf5\n",
      "6680/6680 [==============================] - 19s - loss: 1039.8707 - acc: 0.0081 - val_loss: 4.8918 - val_acc: 0.0108\n",
      "Epoch 2/10\n",
      "6660/6680 [============================>.] - ETA: 0s - loss: 4.9085 - acc: 0.0099Epoch 00001: val_loss improved from 4.89182 to 4.87905, saving model to saved_models/weights.best.from_scratch3.hdf5\n",
      "6680/6680 [==============================] - 19s - loss: 4.9084 - acc: 0.0099 - val_loss: 4.8791 - val_acc: 0.0108\n",
      "Epoch 3/10\n",
      "6660/6680 [============================>.] - ETA: 0s - loss: 4.8762 - acc: 0.0099Epoch 00002: val_loss improved from 4.87905 to 4.87553, saving model to saved_models/weights.best.from_scratch3.hdf5\n",
      "6680/6680 [==============================] - 19s - loss: 4.8762 - acc: 0.0099 - val_loss: 4.8755 - val_acc: 0.0108\n",
      "Epoch 4/10\n",
      "6660/6680 [============================>.] - ETA: 0s - loss: 4.8725 - acc: 0.0111Epoch 00003: val_loss improved from 4.87553 to 4.87307, saving model to saved_models/weights.best.from_scratch3.hdf5\n",
      "6680/6680 [==============================] - 19s - loss: 4.8725 - acc: 0.0111 - val_loss: 4.8731 - val_acc: 0.0108\n",
      "Epoch 5/10\n",
      "6660/6680 [============================>.] - ETA: 0s - loss: 4.8698 - acc: 0.0116Epoch 00004: val_loss improved from 4.87307 to 4.87126, saving model to saved_models/weights.best.from_scratch3.hdf5\n",
      "6680/6680 [==============================] - 19s - loss: 4.8698 - acc: 0.0115 - val_loss: 4.8713 - val_acc: 0.0108\n",
      "Epoch 6/10\n",
      "6660/6680 [============================>.] - ETA: 0s - loss: 4.8678 - acc: 0.0102Epoch 00005: val_loss improved from 4.87126 to 4.87003, saving model to saved_models/weights.best.from_scratch3.hdf5\n",
      "6680/6680 [==============================] - 19s - loss: 4.8678 - acc: 0.0102 - val_loss: 4.8700 - val_acc: 0.0108\n",
      "Epoch 7/10\n",
      "6660/6680 [============================>.] - ETA: 0s - loss: 4.8664 - acc: 0.0107Epoch 00006: val_loss improved from 4.87003 to 4.86930, saving model to saved_models/weights.best.from_scratch3.hdf5\n",
      "6680/6680 [==============================] - 19s - loss: 4.8663 - acc: 0.0106 - val_loss: 4.8693 - val_acc: 0.0108\n",
      "Epoch 8/10\n",
      "6660/6680 [============================>.] - ETA: 0s - loss: 4.8653 - acc: 0.0108Epoch 00007: val_loss improved from 4.86930 to 4.86889, saving model to saved_models/weights.best.from_scratch3.hdf5\n",
      "6680/6680 [==============================] - 19s - loss: 4.8652 - acc: 0.0109 - val_loss: 4.8689 - val_acc: 0.0108\n",
      "Epoch 9/10\n",
      "6660/6680 [============================>.] - ETA: 0s - loss: 4.8647 - acc: 0.0116Epoch 00008: val_loss improved from 4.86889 to 4.86870, saving model to saved_models/weights.best.from_scratch3.hdf5\n",
      "6680/6680 [==============================] - 19s - loss: 4.8645 - acc: 0.0115 - val_loss: 4.8687 - val_acc: 0.0108\n",
      "Epoch 10/10\n",
      "6660/6680 [============================>.] - ETA: 0s - loss: 4.8641 - acc: 0.0116Epoch 00009: val_loss improved from 4.86870 to 4.86862, saving model to saved_models/weights.best.from_scratch3.hdf5\n",
      "6680/6680 [==============================] - 19s - loss: 4.8641 - acc: 0.0115 - val_loss: 4.8686 - val_acc: 0.0108\n",
      "Test accuracy: 1.1962%\n"
     ]
    }
   ],
   "source": [
    "#Scratch 3\n",
    "best_model = 'saved_models/weights.best.from_scratch3.hdf5'\n",
    "from keras.layers import Conv2D, MaxPooling2D, GlobalAveragePooling2D\n",
    "from keras.layers import Dropout, Flatten, Dense\n",
    "from keras.models import Sequential\n",
    "from keras import regularizers\n",
    "\n",
    "model = Sequential()\n",
    "\n",
    "### TODO: Define your architecture.\n",
    "#param = filters * kerne_size * kernel_size * channels\n",
    "model.add(Conv2D(filters=16, kernel_size=2, strides=(1, 1), padding='valid', \n",
    "                 kernel_initializer='glorot_uniform', kernel_constraint=None,kernel_regularizer=None,\n",
    "                 data_format=None, dilation_rate=(1, 1), activation='relu', activity_regularizer=regularizers.l1(0.01), \n",
    "                 use_bias=True, bias_initializer='zeros', bias_regularizer=None, \n",
    "                 bias_constraint=None, input_shape=(224,224,3)))\n",
    "                \n",
    "\n",
    "model.add(MaxPooling2D(pool_size=2))\n",
    "model.add(GlobalAveragePooling2D())\n",
    "#model.add(Flatten())\n",
    "model.add(Dense(133, activation='softmax'))\n",
    "\n",
    "model.summary()\n",
    "\n",
    "model.compile(optimizer='rmsprop', loss='categorical_crossentropy', metrics=['accuracy'])\n",
    "from keras.callbacks import ModelCheckpoint  \n",
    "\n",
    "### TODO: specify the number of epochs that you would like to use to train the model.\n",
    "\n",
    "epochs = 10\n",
    "\n",
    "### Do NOT modify the code below this line.\n",
    "\n",
    "checkpointer = ModelCheckpoint(filepath=best_model, \n",
    "                               verbose=1, save_best_only=True)\n",
    "\n",
    "model.fit(train_tensors, train_targets, \n",
    "          validation_data=(valid_tensors, valid_targets),\n",
    "          epochs=epochs, batch_size=20, callbacks=[checkpointer], verbose=1)\n",
    "\n",
    "model.load_weights(best_model)\n",
    "# get index of predicted dog breed for each image in test set\n",
    "dog_breed_predictions = [np.argmax(model.predict(np.expand_dims(tensor, axis=0))) for tensor in test_tensors]\n",
    "\n",
    "# report test accuracy\n",
    "test_accuracy = 100*np.sum(np.array(dog_breed_predictions)==np.argmax(test_targets, axis=1))/len(dog_breed_predictions)\n",
    "print('Test accuracy: %.4f%%' % test_accuracy)"
   ]
  },
  {
   "cell_type": "code",
   "execution_count": 37,
   "metadata": {
    "scrolled": true
   },
   "outputs": [
    {
     "name": "stdout",
     "output_type": "stream",
     "text": [
      "_________________________________________________________________\n",
      "Layer (type)                 Output Shape              Param #   \n",
      "=================================================================\n",
      "conv2d_12 (Conv2D)           (None, 222, 222, 16)      448       \n",
      "_________________________________________________________________\n",
      "max_pooling2d_12 (MaxPooling (None, 111, 111, 16)      0         \n",
      "_________________________________________________________________\n",
      "global_average_pooling2d_10  (None, 16)                0         \n",
      "_________________________________________________________________\n",
      "dense_9 (Dense)              (None, 133)               2261      \n",
      "=================================================================\n",
      "Total params: 2,709\n",
      "Trainable params: 2,709\n",
      "Non-trainable params: 0\n",
      "_________________________________________________________________\n",
      "Train on 6680 samples, validate on 835 samples\n",
      "Epoch 1/10\n",
      "6660/6680 [============================>.] - ETA: 0s - loss: 4.8871 - acc: 0.0093Epoch 00000: val_loss improved from inf to 4.87657, saving model to saved_models/weights.best.from_scratch4.hdf5\n",
      "6680/6680 [==============================] - 16s - loss: 4.8871 - acc: 0.0094 - val_loss: 4.8766 - val_acc: 0.0108\n",
      "Epoch 2/10\n",
      "6640/6680 [============================>.] - ETA: 0s - loss: 4.8728 - acc: 0.0108Epoch 00001: val_loss improved from 4.87657 to 4.86796, saving model to saved_models/weights.best.from_scratch4.hdf5\n",
      "6680/6680 [==============================] - 16s - loss: 4.8727 - acc: 0.0108 - val_loss: 4.8680 - val_acc: 0.0108\n",
      "Epoch 3/10\n",
      "6640/6680 [============================>.] - ETA: 0s - loss: 4.8659 - acc: 0.0111Epoch 00002: val_loss improved from 4.86796 to 4.86457, saving model to saved_models/weights.best.from_scratch4.hdf5\n",
      "6680/6680 [==============================] - 16s - loss: 4.8657 - acc: 0.0111 - val_loss: 4.8646 - val_acc: 0.0108\n",
      "Epoch 4/10\n",
      "6640/6680 [============================>.] - ETA: 0s - loss: 4.8621 - acc: 0.0130Epoch 00003: val_loss improved from 4.86457 to 4.86283, saving model to saved_models/weights.best.from_scratch4.hdf5\n",
      "6680/6680 [==============================] - 16s - loss: 4.8616 - acc: 0.0133 - val_loss: 4.8628 - val_acc: 0.0096\n",
      "Epoch 5/10\n",
      "6660/6680 [============================>.] - ETA: 0s - loss: 4.8568 - acc: 0.0129Epoch 00004: val_loss improved from 4.86283 to 4.85965, saving model to saved_models/weights.best.from_scratch4.hdf5\n",
      "6680/6680 [==============================] - 16s - loss: 4.8571 - acc: 0.0129 - val_loss: 4.8596 - val_acc: 0.0180\n",
      "Epoch 6/10\n",
      "6660/6680 [============================>.] - ETA: 0s - loss: 4.8518 - acc: 0.0159Epoch 00005: val_loss improved from 4.85965 to 4.85615, saving model to saved_models/weights.best.from_scratch4.hdf5\n",
      "6680/6680 [==============================] - 16s - loss: 4.8519 - acc: 0.0159 - val_loss: 4.8562 - val_acc: 0.0120\n",
      "Epoch 7/10\n",
      "6660/6680 [============================>.] - ETA: 0s - loss: 4.8460 - acc: 0.0168Epoch 00006: val_loss improved from 4.85615 to 4.85162, saving model to saved_models/weights.best.from_scratch4.hdf5\n",
      "6680/6680 [==============================] - 16s - loss: 4.8461 - acc: 0.0168 - val_loss: 4.8516 - val_acc: 0.0216\n",
      "Epoch 8/10\n",
      "6660/6680 [============================>.] - ETA: 0s - loss: 4.8385 - acc: 0.0174Epoch 00007: val_loss improved from 4.85162 to 4.84678, saving model to saved_models/weights.best.from_scratch4.hdf5\n",
      "6680/6680 [==============================] - 16s - loss: 4.8385 - acc: 0.0175 - val_loss: 4.8468 - val_acc: 0.0192\n",
      "Epoch 9/10\n",
      "6660/6680 [============================>.] - ETA: 0s - loss: 4.8308 - acc: 0.0174Epoch 00008: val_loss improved from 4.84678 to 4.84367, saving model to saved_models/weights.best.from_scratch4.hdf5\n",
      "6680/6680 [==============================] - 16s - loss: 4.8309 - acc: 0.0174 - val_loss: 4.8437 - val_acc: 0.0192\n",
      "Epoch 10/10\n",
      "6640/6680 [============================>.] - ETA: 0s - loss: 4.8235 - acc: 0.0188Epoch 00009: val_loss improved from 4.84367 to 4.83904, saving model to saved_models/weights.best.from_scratch4.hdf5\n",
      "6680/6680 [==============================] - 16s - loss: 4.8234 - acc: 0.0189 - val_loss: 4.8390 - val_acc: 0.0204\n",
      "Test accuracy: 1.9139%\n"
     ]
    }
   ],
   "source": [
    "#Scratch 4\n",
    "best_model = 'saved_models/weights.best.from_scratch4.hdf5'\n",
    "from keras.layers import Conv2D, MaxPooling2D, GlobalAveragePooling2D\n",
    "from keras.layers import Dropout, Flatten, Dense\n",
    "from keras.models import Sequential\n",
    "from keras import regularizers\n",
    "\n",
    "model = Sequential()\n",
    "\n",
    "### TODO: Define your architecture.\n",
    "#param = filters * kerne_size * kernel_size * channels\n",
    "model.add(Conv2D(filters=16, kernel_size=3, strides=(1, 1), padding='valid', \n",
    "                 kernel_initializer='glorot_uniform', kernel_constraint=None,kernel_regularizer=None,\n",
    "                 data_format=None, dilation_rate=(1, 1), activation='relu', activity_regularizer=None, \n",
    "                 use_bias=True, bias_initializer='zeros', bias_regularizer=None, \n",
    "                 bias_constraint=None, input_shape=(224,224,3)))\n",
    "                \n",
    "\n",
    "model.add(MaxPooling2D(pool_size=2))\n",
    "model.add(GlobalAveragePooling2D())\n",
    "#model.add(Flatten())\n",
    "model.add(Dense(133, activation='softmax'))\n",
    "\n",
    "model.summary()\n",
    "\n",
    "model.compile(optimizer='rmsprop', loss='categorical_crossentropy', metrics=['accuracy'])\n",
    "from keras.callbacks import ModelCheckpoint  \n",
    "\n",
    "### TODO: specify the number of epochs that you would like to use to train the model.\n",
    "\n",
    "epochs = 10\n",
    "\n",
    "### Do NOT modify the code below this line.\n",
    "\n",
    "checkpointer = ModelCheckpoint(filepath=best_model, \n",
    "                               verbose=1, save_best_only=True)\n",
    "\n",
    "model.fit(train_tensors, train_targets, \n",
    "          validation_data=(valid_tensors, valid_targets),\n",
    "          epochs=epochs, batch_size=20, callbacks=[checkpointer], verbose=1)\n",
    "\n",
    "model.load_weights(best_model)\n",
    "# get index of predicted dog breed for each image in test set\n",
    "dog_breed_predictions = [np.argmax(model.predict(np.expand_dims(tensor, axis=0))) for tensor in test_tensors]\n",
    "\n",
    "# report test accuracy\n",
    "test_accuracy = 100*np.sum(np.array(dog_breed_predictions)==np.argmax(test_targets, axis=1))/len(dog_breed_predictions)\n",
    "print('Test accuracy: %.4f%%' % test_accuracy)"
   ]
  },
  {
   "cell_type": "code",
   "execution_count": 38,
   "metadata": {
    "scrolled": true
   },
   "outputs": [
    {
     "name": "stdout",
     "output_type": "stream",
     "text": [
      "_________________________________________________________________\n",
      "Layer (type)                 Output Shape              Param #   \n",
      "=================================================================\n",
      "conv2d_13 (Conv2D)           (None, 220, 220, 16)      1216      \n",
      "_________________________________________________________________\n",
      "max_pooling2d_13 (MaxPooling (None, 110, 110, 16)      0         \n",
      "_________________________________________________________________\n",
      "global_average_pooling2d_11  (None, 16)                0         \n",
      "_________________________________________________________________\n",
      "dense_10 (Dense)             (None, 133)               2261      \n",
      "=================================================================\n",
      "Total params: 3,477\n",
      "Trainable params: 3,477\n",
      "Non-trainable params: 0\n",
      "_________________________________________________________________\n",
      "Train on 6680 samples, validate on 835 samples\n",
      "Epoch 1/10\n",
      "6660/6680 [============================>.] - ETA: 0s - loss: 11.9562 - acc: 0.0095Epoch 00000: val_loss improved from inf to 4.88576, saving model to saved_models/weights.best.from_scratch5.hdf5\n",
      "6680/6680 [==============================] - 21s - loss: 11.9350 - acc: 0.0094 - val_loss: 4.8858 - val_acc: 0.0108\n",
      "Epoch 2/10\n",
      "6660/6680 [============================>.] - ETA: 0s - loss: 4.8810 - acc: 0.0116Epoch 00001: val_loss improved from 4.88576 to 4.87900, saving model to saved_models/weights.best.from_scratch5.hdf5\n",
      "6680/6680 [==============================] - 21s - loss: 4.8811 - acc: 0.0115 - val_loss: 4.8790 - val_acc: 0.0108\n",
      "Epoch 3/10\n",
      "6660/6680 [============================>.] - ETA: 0s - loss: 4.8761 - acc: 0.0116Epoch 00002: val_loss improved from 4.87900 to 4.87549, saving model to saved_models/weights.best.from_scratch5.hdf5\n",
      "6680/6680 [==============================] - 21s - loss: 4.8761 - acc: 0.0115 - val_loss: 4.8755 - val_acc: 0.0108\n",
      "Epoch 4/10\n",
      "6660/6680 [============================>.] - ETA: 0s - loss: 4.8724 - acc: 0.0116Epoch 00003: val_loss improved from 4.87549 to 4.87300, saving model to saved_models/weights.best.from_scratch5.hdf5\n",
      "6680/6680 [==============================] - 21s - loss: 4.8725 - acc: 0.0115 - val_loss: 4.8730 - val_acc: 0.0108\n",
      "Epoch 5/10\n",
      "6660/6680 [============================>.] - ETA: 0s - loss: 4.8697 - acc: 0.0110Epoch 00004: val_loss improved from 4.87300 to 4.87138, saving model to saved_models/weights.best.from_scratch5.hdf5\n",
      "6680/6680 [==============================] - 21s - loss: 4.8698 - acc: 0.0109 - val_loss: 4.8714 - val_acc: 0.0108\n",
      "Epoch 6/10\n",
      "6660/6680 [============================>.] - ETA: 0s - loss: 4.8678 - acc: 0.0114Epoch 00005: val_loss improved from 4.87138 to 4.87014, saving model to saved_models/weights.best.from_scratch5.hdf5\n",
      "6680/6680 [==============================] - 21s - loss: 4.8678 - acc: 0.0114 - val_loss: 4.8701 - val_acc: 0.0108\n",
      "Epoch 7/10\n",
      "6660/6680 [============================>.] - ETA: 0s - loss: 4.8663 - acc: 0.0107Epoch 00006: val_loss improved from 4.87014 to 4.86938, saving model to saved_models/weights.best.from_scratch5.hdf5\n",
      "6680/6680 [==============================] - 21s - loss: 4.8664 - acc: 0.0108 - val_loss: 4.8694 - val_acc: 0.0108\n",
      "Epoch 8/10\n",
      "6660/6680 [============================>.] - ETA: 0s - loss: 4.8652 - acc: 0.0116Epoch 00007: val_loss improved from 4.86938 to 4.86888, saving model to saved_models/weights.best.from_scratch5.hdf5\n",
      "6680/6680 [==============================] - 21s - loss: 4.8654 - acc: 0.0115 - val_loss: 4.8689 - val_acc: 0.0108\n",
      "Epoch 9/10\n",
      "6660/6680 [============================>.] - ETA: 0s - loss: 4.8646 - acc: 0.0116Epoch 00008: val_loss improved from 4.86888 to 4.86864, saving model to saved_models/weights.best.from_scratch5.hdf5\n",
      "6680/6680 [==============================] - 21s - loss: 4.8647 - acc: 0.0115 - val_loss: 4.8686 - val_acc: 0.0108\n",
      "Epoch 10/10\n",
      "6660/6680 [============================>.] - ETA: 0s - loss: 4.8639 - acc: 0.0116Epoch 00009: val_loss improved from 4.86864 to 4.86855, saving model to saved_models/weights.best.from_scratch5.hdf5\n",
      "6680/6680 [==============================] - 21s - loss: 4.8641 - acc: 0.0115 - val_loss: 4.8685 - val_acc: 0.0108\n",
      "Test accuracy: 1.1962%\n"
     ]
    }
   ],
   "source": [
    "#Scratch 5\n",
    "best_model = 'saved_models/weights.best.from_scratch5.hdf5'\n",
    "from keras.layers import Conv2D, MaxPooling2D, GlobalAveragePooling2D\n",
    "from keras.layers import Dropout, Flatten, Dense\n",
    "from keras.models import Sequential\n",
    "from keras import regularizers\n",
    "\n",
    "model = Sequential()\n",
    "\n",
    "### TODO: Define your architecture.\n",
    "#param = filters * kerne_size * kernel_size * channels\n",
    "model.add(Conv2D(filters=16, kernel_size=5, strides=(1, 1), padding='valid', \n",
    "                 kernel_initializer='glorot_uniform', kernel_constraint=None,kernel_regularizer=None,\n",
    "                 data_format=None, dilation_rate=(1, 1), activation='relu', activity_regularizer=regularizers.l2(0.01), \n",
    "                 use_bias=True, bias_initializer='zeros', bias_regularizer=None, \n",
    "                 bias_constraint=None, input_shape=(224,224,3)))\n",
    "                \n",
    "\n",
    "model.add(MaxPooling2D(pool_size=2))\n",
    "model.add(GlobalAveragePooling2D())\n",
    "#model.add(Flatten())\n",
    "model.add(Dense(133, activation='softmax'))\n",
    "\n",
    "model.summary()\n",
    "\n",
    "model.compile(optimizer='rmsprop', loss='categorical_crossentropy', metrics=['accuracy'])\n",
    "from keras.callbacks import ModelCheckpoint  \n",
    "\n",
    "### TODO: specify the number of epochs that you would like to use to train the model.\n",
    "\n",
    "epochs = 10\n",
    "\n",
    "### Do NOT modify the code below this line.\n",
    "\n",
    "checkpointer = ModelCheckpoint(filepath=best_model, \n",
    "                               verbose=1, save_best_only=True)\n",
    "\n",
    "model.fit(train_tensors, train_targets, \n",
    "          validation_data=(valid_tensors, valid_targets),\n",
    "          epochs=epochs, batch_size=20, callbacks=[checkpointer], verbose=1)\n",
    "\n",
    "model.load_weights(best_model)\n",
    "# get index of predicted dog breed for each image in test set\n",
    "dog_breed_predictions = [np.argmax(model.predict(np.expand_dims(tensor, axis=0))) for tensor in test_tensors]\n",
    "\n",
    "# report test accuracy\n",
    "test_accuracy = 100*np.sum(np.array(dog_breed_predictions)==np.argmax(test_targets, axis=1))/len(dog_breed_predictions)\n",
    "print('Test accuracy: %.4f%%' % test_accuracy)"
   ]
  },
  {
   "cell_type": "code",
   "execution_count": 20,
   "metadata": {
    "scrolled": true
   },
   "outputs": [
    {
     "name": "stdout",
     "output_type": "stream",
     "text": [
      "_________________________________________________________________\n",
      "Layer (type)                 Output Shape              Param #   \n",
      "=================================================================\n",
      "conv2d_5 (Conv2D)            (None, 222, 222, 16)      448       \n",
      "_________________________________________________________________\n",
      "max_pooling2d_6 (MaxPooling2 (None, 111, 111, 16)      0         \n",
      "_________________________________________________________________\n",
      "global_average_pooling2d_5 ( (None, 16)                0         \n",
      "_________________________________________________________________\n",
      "dense_5 (Dense)              (None, 133)               2261      \n",
      "=================================================================\n",
      "Total params: 2,709\n",
      "Trainable params: 2,709\n",
      "Non-trainable params: 0\n",
      "_________________________________________________________________\n",
      "Epoch 1/10\n",
      "333/334 [============================>.] - ETA: 0s - loss: 4.8823 - acc: 0.0089Epoch 00000: val_loss improved from inf to 4.86906, saving model to saved_models/weights.best.from_scratch6.hdf5\n",
      "334/334 [==============================] - 60s - loss: 4.8823 - acc: 0.0091 - val_loss: 4.8691 - val_acc: 0.0110\n",
      "Epoch 2/10\n",
      "333/334 [============================>.] - ETA: 0s - loss: 4.8697 - acc: 0.0099Epoch 00001: val_loss improved from 4.86906 to 4.86690, saving model to saved_models/weights.best.from_scratch6.hdf5\n",
      "334/334 [==============================] - 59s - loss: 4.8699 - acc: 0.0099 - val_loss: 4.8669 - val_acc: 0.0110\n",
      "Epoch 3/10\n",
      "333/334 [============================>.] - ETA: 0s - loss: 4.8660 - acc: 0.0105Epoch 00002: val_loss improved from 4.86690 to 4.86464, saving model to saved_models/weights.best.from_scratch6.hdf5\n",
      "334/334 [==============================] - 59s - loss: 4.8659 - acc: 0.0105 - val_loss: 4.8646 - val_acc: 0.0110\n",
      "Epoch 4/10\n",
      "333/334 [============================>.] - ETA: 0s - loss: 4.8629 - acc: 0.0141Epoch 00003: val_loss improved from 4.86464 to 4.86453, saving model to saved_models/weights.best.from_scratch6.hdf5\n",
      "334/334 [==============================] - 59s - loss: 4.8626 - acc: 0.0142 - val_loss: 4.8645 - val_acc: 0.0098\n",
      "Epoch 5/10\n",
      "333/334 [============================>.] - ETA: 0s - loss: 4.8597 - acc: 0.0126Epoch 00004: val_loss improved from 4.86453 to 4.86032, saving model to saved_models/weights.best.from_scratch6.hdf5\n",
      "334/334 [==============================] - 59s - loss: 4.8597 - acc: 0.0126 - val_loss: 4.8603 - val_acc: 0.0110\n",
      "Epoch 6/10\n",
      "333/334 [============================>.] - ETA: 0s - loss: 4.8556 - acc: 0.0144Epoch 00005: val_loss improved from 4.86032 to 4.85517, saving model to saved_models/weights.best.from_scratch6.hdf5\n",
      "334/334 [==============================] - 59s - loss: 4.8556 - acc: 0.0144 - val_loss: 4.8552 - val_acc: 0.0171\n",
      "Epoch 7/10\n",
      "333/334 [============================>.] - ETA: 0s - loss: 4.8508 - acc: 0.0152Epoch 00006: val_loss improved from 4.85517 to 4.85201, saving model to saved_models/weights.best.from_scratch6.hdf5\n",
      "334/334 [==============================] - 59s - loss: 4.8505 - acc: 0.0153 - val_loss: 4.8520 - val_acc: 0.0183\n",
      "Epoch 8/10\n",
      "333/334 [============================>.] - ETA: 0s - loss: 4.8442 - acc: 0.0149Epoch 00007: val_loss improved from 4.85201 to 4.84784, saving model to saved_models/weights.best.from_scratch6.hdf5\n",
      "334/334 [==============================] - 60s - loss: 4.8440 - acc: 0.0148 - val_loss: 4.8478 - val_acc: 0.0171\n",
      "Epoch 9/10\n",
      "333/334 [============================>.] - ETA: 0s - loss: 4.8373 - acc: 0.0153Epoch 00008: val_loss improved from 4.84784 to 4.84205, saving model to saved_models/weights.best.from_scratch6.hdf5\n",
      "334/334 [==============================] - 59s - loss: 4.8373 - acc: 0.0153 - val_loss: 4.8420 - val_acc: 0.0220\n",
      "Epoch 10/10\n",
      "333/334 [============================>.] - ETA: 0s - loss: 4.8288 - acc: 0.0159Epoch 00009: val_loss improved from 4.84205 to 4.83611, saving model to saved_models/weights.best.from_scratch6.hdf5\n",
      "334/334 [==============================] - 59s - loss: 4.8289 - acc: 0.0160 - val_loss: 4.8361 - val_acc: 0.0183\n",
      "Test accuracy: 1.1962%\n"
     ]
    }
   ],
   "source": [
    "#Scratch 6 with Image Augmentation\n",
    "best_model = 'saved_models/weights.best.from_scratch6.hdf5'\n",
    "from keras.layers import Conv2D, MaxPooling2D, GlobalAveragePooling2D\n",
    "from keras.layers import Dropout, Flatten, Dense\n",
    "from keras.models import Sequential\n",
    "from keras import regularizers\n",
    "\n",
    "model = Sequential()\n",
    "\n",
    "### TODO: Define your architecture.\n",
    "#param = filters * kerne_size * kernel_size * channels\n",
    "model.add(Conv2D(filters=16, kernel_size=3, strides=(1, 1), padding='valid', \n",
    "                 kernel_initializer='glorot_uniform', kernel_constraint=None,kernel_regularizer=None,\n",
    "                 data_format=None, dilation_rate=(1, 1), activation='relu', activity_regularizer=None, \n",
    "                 use_bias=True, bias_initializer='zeros', bias_regularizer=None, \n",
    "                 bias_constraint=None, input_shape=(224,224,3)))\n",
    "                \n",
    "\n",
    "model.add(MaxPooling2D(pool_size=2))\n",
    "model.add(GlobalAveragePooling2D())\n",
    "#model.add(Flatten())\n",
    "model.add(Dense(133, activation='softmax'))\n",
    "\n",
    "model.summary()\n",
    "\n",
    "model.compile(optimizer='rmsprop', loss='categorical_crossentropy', metrics=['accuracy'])\n",
    "from keras.callbacks import ModelCheckpoint  \n",
    "\n",
    "### TODO: specify the number of epochs that you would like to use to train the model.\n",
    "\n",
    "epochs = 10\n",
    "batch_size=20\n",
    "\n",
    "### Do NOT modify the code below this line.\n",
    "\n",
    "checkpointer = ModelCheckpoint(filepath=best_model, \n",
    "                               verbose=1, save_best_only=True)\n",
    "'''\n",
    "model.fit(train_tensors, train_targets, \n",
    "          validation_data=(valid_tensors, valid_targets),\n",
    "          epochs=epochs, batch_size=20, callbacks=[checkpointer], verbose=1)\n",
    "'''          \n",
    "model.fit_generator(datagen_train.flow(train_tensors, train_targets, batch_size=batch_size),\n",
    "                    steps_per_epoch=train_tensors.shape[0] // batch_size,\n",
    "                    epochs=epochs, verbose=1, callbacks=[checkpointer],\n",
    "                    validation_data=datagen_valid.flow(valid_tensors, valid_targets, batch_size=batch_size),\n",
    "                    validation_steps=valid_tensors.shape[0] // batch_size)\n",
    "\n",
    "model.load_weights(best_model)\n",
    "# get index of predicted dog breed for each image in test set\n",
    "dog_breed_predictions = [np.argmax(model.predict(np.expand_dims(tensor, axis=0))) for tensor in test_tensors]\n",
    "\n",
    "# report test accuracy\n",
    "test_accuracy = 100*np.sum(np.array(dog_breed_predictions)==np.argmax(test_targets, axis=1))/len(dog_breed_predictions)\n",
    "print('Test accuracy: %.4f%%' % test_accuracy)"
   ]
  },
  {
   "cell_type": "code",
   "execution_count": 21,
   "metadata": {
    "collapsed": true
   },
   "outputs": [
    {
     "name": "stdout",
     "output_type": "stream",
     "text": [
      "_________________________________________________________________\n",
      "Layer (type)                 Output Shape              Param #   \n",
      "=================================================================\n",
      "conv2d_6 (Conv2D)            (None, 222, 222, 16)      448       \n",
      "_________________________________________________________________\n",
      "max_pooling2d_7 (MaxPooling2 (None, 111, 111, 16)      0         \n",
      "_________________________________________________________________\n",
      "global_average_pooling2d_6 ( (None, 16)                0         \n",
      "_________________________________________________________________\n",
      "dense_6 (Dense)              (None, 500)               8500      \n",
      "_________________________________________________________________\n",
      "dense_7 (Dense)              (None, 133)               66633     \n",
      "=================================================================\n",
      "Total params: 75,581\n",
      "Trainable params: 75,581\n",
      "Non-trainable params: 0\n",
      "_________________________________________________________________\n",
      "Epoch 1/10\n",
      "333/334 [============================>.] - ETA: 0s - loss: 4.8818 - acc: 0.0089Epoch 00000: val_loss improved from inf to 4.86436, saving model to saved_models/weights.best.from_scratch7.hdf5\n",
      "334/334 [==============================] - 60s - loss: 4.8816 - acc: 0.0088 - val_loss: 4.8644 - val_acc: 0.0110\n",
      "Epoch 2/10\n",
      "333/334 [============================>.] - ETA: 0s - loss: 4.8625 - acc: 0.0108Epoch 00001: val_loss improved from 4.86436 to 4.85298, saving model to saved_models/weights.best.from_scratch7.hdf5\n",
      "334/334 [==============================] - 58s - loss: 4.8625 - acc: 0.0108 - val_loss: 4.8530 - val_acc: 0.0159\n",
      "Epoch 3/10\n",
      "333/334 [============================>.] - ETA: 0s - loss: 4.8360 - acc: 0.0141Epoch 00002: val_loss improved from 4.85298 to 4.82939, saving model to saved_models/weights.best.from_scratch7.hdf5\n",
      "334/334 [==============================] - 58s - loss: 4.8358 - acc: 0.0141 - val_loss: 4.8294 - val_acc: 0.0159\n",
      "Epoch 4/10\n",
      "333/334 [============================>.] - ETA: 0s - loss: 4.8140 - acc: 0.0161Epoch 00003: val_loss improved from 4.82939 to 4.81484, saving model to saved_models/weights.best.from_scratch7.hdf5\n",
      "334/334 [==============================] - 59s - loss: 4.8140 - acc: 0.0160 - val_loss: 4.8148 - val_acc: 0.0183\n",
      "Epoch 5/10\n",
      "333/334 [============================>.] - ETA: 0s - loss: 4.7968 - acc: 0.0176Epoch 00004: val_loss improved from 4.81484 to 4.80602, saving model to saved_models/weights.best.from_scratch7.hdf5\n",
      "334/334 [==============================] - 59s - loss: 4.7969 - acc: 0.0175 - val_loss: 4.8060 - val_acc: 0.0171\n",
      "Epoch 6/10\n",
      "333/334 [============================>.] - ETA: 0s - loss: 4.7823 - acc: 0.0201Epoch 00005: val_loss improved from 4.80602 to 4.78995, saving model to saved_models/weights.best.from_scratch7.hdf5\n",
      "334/334 [==============================] - 59s - loss: 4.7821 - acc: 0.0201 - val_loss: 4.7899 - val_acc: 0.0171\n",
      "Epoch 7/10\n",
      "333/334 [============================>.] - ETA: 0s - loss: 4.7640 - acc: 0.0204Epoch 00006: val_loss improved from 4.78995 to 4.78450, saving model to saved_models/weights.best.from_scratch7.hdf5\n",
      "334/334 [==============================] - 59s - loss: 4.7643 - acc: 0.0205 - val_loss: 4.7845 - val_acc: 0.0183\n",
      "Epoch 8/10\n",
      "333/334 [============================>.] - ETA: 0s - loss: 4.7482 - acc: 0.0242Epoch 00007: val_loss improved from 4.78450 to 4.77123, saving model to saved_models/weights.best.from_scratch7.hdf5\n",
      "334/334 [==============================] - 59s - loss: 4.7485 - acc: 0.0241 - val_loss: 4.7712 - val_acc: 0.0171\n",
      "Epoch 9/10\n",
      "333/334 [============================>.] - ETA: 0s - loss: 4.7319 - acc: 0.0218Epoch 00008: val_loss improved from 4.77123 to 4.76862, saving model to saved_models/weights.best.from_scratch7.hdf5\n",
      "334/334 [==============================] - 58s - loss: 4.7322 - acc: 0.0219 - val_loss: 4.7686 - val_acc: 0.0146\n",
      "Epoch 10/10\n",
      "333/334 [============================>.] - ETA: 0s - loss: 4.7118 - acc: 0.0246Epoch 00009: val_loss did not improve\n",
      "334/334 [==============================] - 58s - loss: 4.7119 - acc: 0.0246 - val_loss: 4.7899 - val_acc: 0.0171\n",
      "Test accuracy: 2.3923%\n"
     ]
    }
   ],
   "source": [
    "#Scratch 7 with Image Augmentation, added dense layer\n",
    "best_model = 'saved_models/weights.best.from_scratch7.hdf5'\n",
    "from keras.layers import Conv2D, MaxPooling2D, GlobalAveragePooling2D\n",
    "from keras.layers import Dropout, Flatten, Dense\n",
    "from keras.models import Sequential\n",
    "from keras import regularizers\n",
    "\n",
    "model = Sequential()\n",
    "\n",
    "### TODO: Define your architecture.\n",
    "#param = filters * kernel_size * kernel_size * channels + biases\n",
    "model.add(Conv2D(filters=16, kernel_size=3, strides=(1, 1), padding='valid', \n",
    "                 kernel_initializer='glorot_uniform', kernel_constraint=None,kernel_regularizer=None,\n",
    "                 data_format=None, dilation_rate=(1, 1), activation='relu', activity_regularizer=None, \n",
    "                 use_bias=True, bias_initializer='zeros', bias_regularizer=None, \n",
    "                 bias_constraint=None, input_shape=(224,224,3)))\n",
    "model.add(MaxPooling2D(pool_size=2))\n",
    "model.add(GlobalAveragePooling2D())\n",
    "model.add(Dense(500, activation='relu'))\n",
    "model.add(Dense(133, activation='softmax'))\n",
    "model.summary()\n",
    "\n",
    "model.compile(optimizer='rmsprop', loss='categorical_crossentropy', metrics=['accuracy'])\n",
    "from keras.callbacks import ModelCheckpoint  \n",
    "\n",
    "### TODO: specify the number of epochs that you would like to use to train the model.\n",
    "\n",
    "epochs = 10\n",
    "batch_size=20\n",
    "\n",
    "### Do NOT modify the code below this line.\n",
    "\n",
    "checkpointer = ModelCheckpoint(filepath=best_model, \n",
    "                               verbose=1, save_best_only=True)\n",
    "         \n",
    "model.fit_generator(datagen_train.flow(train_tensors, train_targets, batch_size=batch_size),\n",
    "                    steps_per_epoch=train_tensors.shape[0] // batch_size,\n",
    "                    epochs=epochs, verbose=1, callbacks=[checkpointer],\n",
    "                    validation_data=datagen_valid.flow(valid_tensors, valid_targets, batch_size=batch_size),\n",
    "                    validation_steps=valid_tensors.shape[0] // batch_size)\n",
    "\n",
    "model.load_weights(best_model)\n",
    "# get index of predicted dog breed for each image in test set\n",
    "dog_breed_predictions = [np.argmax(model.predict(np.expand_dims(tensor, axis=0))) for tensor in test_tensors]\n",
    "\n",
    "# report test accuracy\n",
    "test_accuracy = 100*np.sum(np.array(dog_breed_predictions)==np.argmax(test_targets, axis=1))/len(dog_breed_predictions)\n",
    "print('Test accuracy: %.4f%%' % test_accuracy)"
   ]
  },
  {
   "cell_type": "code",
   "execution_count": 23,
   "metadata": {
    "scrolled": true
   },
   "outputs": [
    {
     "name": "stdout",
     "output_type": "stream",
     "text": [
      "_________________________________________________________________\n",
      "Layer (type)                 Output Shape              Param #   \n",
      "=================================================================\n",
      "conv2d_8 (Conv2D)            (None, 222, 222, 16)      448       \n",
      "_________________________________________________________________\n",
      "max_pooling2d_9 (MaxPooling2 (None, 111, 111, 16)      0         \n",
      "_________________________________________________________________\n",
      "global_average_pooling2d_8 ( (None, 16)                0         \n",
      "_________________________________________________________________\n",
      "dropout_1 (Dropout)          (None, 16)                0         \n",
      "_________________________________________________________________\n",
      "dense_8 (Dense)              (None, 500)               8500      \n",
      "_________________________________________________________________\n",
      "dropout_2 (Dropout)          (None, 500)               0         \n",
      "_________________________________________________________________\n",
      "dense_9 (Dense)              (None, 133)               66633     \n",
      "=================================================================\n",
      "Total params: 75,581\n",
      "Trainable params: 75,581\n",
      "Non-trainable params: 0\n",
      "_________________________________________________________________\n",
      "Epoch 1/10\n",
      "333/334 [============================>.] - ETA: 0s - loss: 4.8814 - acc: 0.0087Epoch 00000: val_loss improved from inf to 4.86647, saving model to saved_models/weights.best.from_scratch8.hdf5\n",
      "334/334 [==============================] - 60s - loss: 4.8814 - acc: 0.0087 - val_loss: 4.8665 - val_acc: 0.0122\n",
      "Epoch 2/10\n",
      "333/334 [============================>.] - ETA: 0s - loss: 4.8624 - acc: 0.0138Epoch 00001: val_loss improved from 4.86647 to 4.85372, saving model to saved_models/weights.best.from_scratch8.hdf5\n",
      "334/334 [==============================] - 59s - loss: 4.8623 - acc: 0.0138 - val_loss: 4.8537 - val_acc: 0.0146\n",
      "Epoch 3/10\n",
      "333/334 [============================>.] - ETA: 0s - loss: 4.8354 - acc: 0.0153Epoch 00002: val_loss improved from 4.85372 to 4.83069, saving model to saved_models/weights.best.from_scratch8.hdf5\n",
      "334/334 [==============================] - 58s - loss: 4.8351 - acc: 0.0154 - val_loss: 4.8307 - val_acc: 0.0171\n",
      "Epoch 4/10\n",
      "333/334 [============================>.] - ETA: 0s - loss: 4.8140 - acc: 0.0174Epoch 00003: val_loss improved from 4.83069 to 4.81496, saving model to saved_models/weights.best.from_scratch8.hdf5\n",
      "334/334 [==============================] - 58s - loss: 4.8138 - acc: 0.0174 - val_loss: 4.8150 - val_acc: 0.0183\n",
      "Epoch 5/10\n",
      "333/334 [============================>.] - ETA: 0s - loss: 4.7978 - acc: 0.0162Epoch 00004: val_loss improved from 4.81496 to 4.80086, saving model to saved_models/weights.best.from_scratch8.hdf5\n",
      "334/334 [==============================] - 58s - loss: 4.7979 - acc: 0.0162 - val_loss: 4.8009 - val_acc: 0.0171\n",
      "Epoch 6/10\n",
      "333/334 [============================>.] - ETA: 0s - loss: 4.7844 - acc: 0.0194Epoch 00005: val_loss improved from 4.80086 to 4.79320, saving model to saved_models/weights.best.from_scratch8.hdf5\n",
      "334/334 [==============================] - 59s - loss: 4.7845 - acc: 0.0195 - val_loss: 4.7932 - val_acc: 0.0171\n",
      "Epoch 7/10\n",
      "333/334 [============================>.] - ETA: 0s - loss: 4.7735 - acc: 0.0186Epoch 00006: val_loss did not improve\n",
      "334/334 [==============================] - 59s - loss: 4.7733 - acc: 0.0186 - val_loss: 4.7988 - val_acc: 0.0122\n",
      "Epoch 8/10\n",
      "333/334 [============================>.] - ETA: 0s - loss: 4.7558 - acc: 0.0189Epoch 00007: val_loss improved from 4.79320 to 4.77086, saving model to saved_models/weights.best.from_scratch8.hdf5\n",
      "334/334 [==============================] - 60s - loss: 4.7560 - acc: 0.0189 - val_loss: 4.7709 - val_acc: 0.0159\n",
      "Epoch 9/10\n",
      "333/334 [============================>.] - ETA: 0s - loss: 4.7461 - acc: 0.0209Epoch 00008: val_loss improved from 4.77086 to 4.76328, saving model to saved_models/weights.best.from_scratch8.hdf5\n",
      "334/334 [==============================] - 58s - loss: 4.7464 - acc: 0.0210 - val_loss: 4.7633 - val_acc: 0.0171\n",
      "Epoch 10/10\n",
      "333/334 [============================>.] - ETA: 0s - loss: 4.7297 - acc: 0.0209Epoch 00009: val_loss improved from 4.76328 to 4.75500, saving model to saved_models/weights.best.from_scratch8.hdf5\n",
      "334/334 [==============================] - 58s - loss: 4.7297 - acc: 0.0210 - val_loss: 4.7550 - val_acc: 0.0232\n",
      "Test accuracy: 2.6316%\n"
     ]
    }
   ],
   "source": [
    "#Scratch 8 with Image Augmentation, added dense layer, add dropout\n",
    "best_model = 'saved_models/weights.best.from_scratch8.hdf5'\n",
    "from keras.layers import Conv2D, MaxPooling2D, GlobalAveragePooling2D\n",
    "from keras.layers import Dropout, Flatten, Dense\n",
    "from keras.models import Sequential\n",
    "from keras import regularizers\n",
    "\n",
    "model = Sequential()\n",
    "\n",
    "### TODO: Define your architecture.\n",
    "#param = filters * kernel_size * kernel_size * channels + biases\n",
    "model.add(Conv2D(filters=16, kernel_size=3, strides=(1, 1), padding='valid', \n",
    "                 kernel_initializer='glorot_uniform', kernel_constraint=None,kernel_regularizer=None,\n",
    "                 data_format=None, dilation_rate=(1, 1), activation='relu', activity_regularizer=None, \n",
    "                 use_bias=True, bias_initializer='zeros', bias_regularizer=None, \n",
    "                 bias_constraint=None, input_shape=(224,224,3)))\n",
    "model.add(MaxPooling2D(pool_size=2))\n",
    "model.add(GlobalAveragePooling2D())\n",
    "model.add(Dropout(0.25))\n",
    "model.add(Dense(500, activation='relu'))\n",
    "model.add(Dropout(0.25))\n",
    "model.add(Dense(133, activation='softmax'))\n",
    "model.summary()\n",
    "\n",
    "model.compile(optimizer='rmsprop', loss='categorical_crossentropy', metrics=['accuracy'])\n",
    "from keras.callbacks import ModelCheckpoint  \n",
    "\n",
    "### TODO: specify the number of epochs that you would like to use to train the model.\n",
    "\n",
    "epochs = 10\n",
    "batch_size=20\n",
    "\n",
    "### Do NOT modify the code below this line.\n",
    "\n",
    "checkpointer = ModelCheckpoint(filepath=best_model, \n",
    "                               verbose=1, save_best_only=True)\n",
    "         \n",
    "model.fit_generator(datagen_train.flow(train_tensors, train_targets, batch_size=batch_size),\n",
    "                    steps_per_epoch=train_tensors.shape[0] // batch_size,\n",
    "                    epochs=epochs, verbose=1, callbacks=[checkpointer],\n",
    "                    validation_data=datagen_valid.flow(valid_tensors, valid_targets, batch_size=batch_size),\n",
    "                    validation_steps=valid_tensors.shape[0] // batch_size)\n",
    "\n",
    "model.load_weights(best_model)\n",
    "# get index of predicted dog breed for each image in test set\n",
    "dog_breed_predictions = [np.argmax(model.predict(np.expand_dims(tensor, axis=0))) for tensor in test_tensors]\n",
    "\n",
    "# report test accuracy\n",
    "test_accuracy = 100*np.sum(np.array(dog_breed_predictions)==np.argmax(test_targets, axis=1))/len(dog_breed_predictions)\n",
    "print('Test accuracy: %.4f%%' % test_accuracy)"
   ]
  },
  {
   "cell_type": "code",
   "execution_count": 24,
   "metadata": {
    "scrolled": true
   },
   "outputs": [
    {
     "name": "stdout",
     "output_type": "stream",
     "text": [
      "_________________________________________________________________\n",
      "Layer (type)                 Output Shape              Param #   \n",
      "=================================================================\n",
      "conv2d_9 (Conv2D)            (None, 222, 222, 16)      448       \n",
      "_________________________________________________________________\n",
      "max_pooling2d_10 (MaxPooling (None, 111, 111, 16)      0         \n",
      "_________________________________________________________________\n",
      "conv2d_10 (Conv2D)           (None, 109, 109, 32)      4640      \n",
      "_________________________________________________________________\n",
      "max_pooling2d_11 (MaxPooling (None, 54, 54, 32)        0         \n",
      "_________________________________________________________________\n",
      "global_average_pooling2d_9 ( (None, 32)                0         \n",
      "_________________________________________________________________\n",
      "dropout_3 (Dropout)          (None, 32)                0         \n",
      "_________________________________________________________________\n",
      "dense_10 (Dense)             (None, 500)               16500     \n",
      "_________________________________________________________________\n",
      "dropout_4 (Dropout)          (None, 500)               0         \n",
      "_________________________________________________________________\n",
      "dense_11 (Dense)             (None, 133)               66633     \n",
      "=================================================================\n",
      "Total params: 88,221\n",
      "Trainable params: 88,221\n",
      "Non-trainable params: 0\n",
      "_________________________________________________________________\n",
      "Epoch 1/10\n",
      "333/334 [============================>.] - ETA: 0s - loss: 4.8821 - acc: 0.0093Epoch 00000: val_loss improved from inf to 4.86399, saving model to saved_models/weights.best.from_scratch9.hdf5\n",
      "334/334 [==============================] - 60s - loss: 4.8821 - acc: 0.0093 - val_loss: 4.8640 - val_acc: 0.0146\n",
      "Epoch 2/10\n",
      "333/334 [============================>.] - ETA: 0s - loss: 4.8417 - acc: 0.0141Epoch 00001: val_loss improved from 4.86399 to 4.82606, saving model to saved_models/weights.best.from_scratch9.hdf5\n",
      "334/334 [==============================] - 59s - loss: 4.8416 - acc: 0.0141 - val_loss: 4.8261 - val_acc: 0.0159\n",
      "Epoch 3/10\n",
      "333/334 [============================>.] - ETA: 0s - loss: 4.7927 - acc: 0.0165Epoch 00002: val_loss improved from 4.82606 to 4.76424, saving model to saved_models/weights.best.from_scratch9.hdf5\n",
      "334/334 [==============================] - 59s - loss: 4.7929 - acc: 0.0165 - val_loss: 4.7642 - val_acc: 0.0159\n",
      "Epoch 4/10\n",
      "333/334 [============================>.] - ETA: 0s - loss: 4.7530 - acc: 0.0209Epoch 00003: val_loss improved from 4.76424 to 4.73658, saving model to saved_models/weights.best.from_scratch9.hdf5\n",
      "334/334 [==============================] - 59s - loss: 4.7531 - acc: 0.0208 - val_loss: 4.7366 - val_acc: 0.0171\n",
      "Epoch 5/10\n",
      "333/334 [============================>.] - ETA: 0s - loss: 4.7166 - acc: 0.0201Epoch 00004: val_loss improved from 4.73658 to 4.70348, saving model to saved_models/weights.best.from_scratch9.hdf5\n",
      "334/334 [==============================] - 59s - loss: 4.7166 - acc: 0.0202 - val_loss: 4.7035 - val_acc: 0.0256\n",
      "Epoch 6/10\n",
      "333/334 [============================>.] - ETA: 0s - loss: 4.6830 - acc: 0.0210Epoch 00005: val_loss improved from 4.70348 to 4.68781, saving model to saved_models/weights.best.from_scratch9.hdf5\n",
      "334/334 [==============================] - 59s - loss: 4.6830 - acc: 0.0210 - val_loss: 4.6878 - val_acc: 0.0280\n",
      "Epoch 7/10\n",
      "333/334 [============================>.] - ETA: 0s - loss: 4.6557 - acc: 0.0224Epoch 00006: val_loss improved from 4.68781 to 4.66192, saving model to saved_models/weights.best.from_scratch9.hdf5\n",
      "334/334 [==============================] - 59s - loss: 4.6568 - acc: 0.0223 - val_loss: 4.6619 - val_acc: 0.0268\n",
      "Epoch 8/10\n",
      "333/334 [============================>.] - ETA: 0s - loss: 4.6281 - acc: 0.0311Epoch 00007: val_loss did not improve\n",
      "334/334 [==============================] - 59s - loss: 4.6279 - acc: 0.0310 - val_loss: 4.6769 - val_acc: 0.0244\n",
      "Epoch 9/10\n",
      "333/334 [============================>.] - ETA: 0s - loss: 4.6106 - acc: 0.0278Epoch 00008: val_loss improved from 4.66192 to 4.63500, saving model to saved_models/weights.best.from_scratch9.hdf5\n",
      "334/334 [==============================] - 59s - loss: 4.6102 - acc: 0.0277 - val_loss: 4.6350 - val_acc: 0.0220\n",
      "Epoch 10/10\n",
      "333/334 [============================>.] - ETA: 0s - loss: 4.5887 - acc: 0.0326Epoch 00009: val_loss improved from 4.63500 to 4.60351, saving model to saved_models/weights.best.from_scratch9.hdf5\n",
      "334/334 [==============================] - 59s - loss: 4.5892 - acc: 0.0325 - val_loss: 4.6035 - val_acc: 0.0268\n",
      "Test accuracy: 5.1435%\n"
     ]
    }
   ],
   "source": [
    "#Scratch 9 with Image Augmentation, added dense layer, add dropout, add a CNN layer\n",
    "best_model = 'saved_models/weights.best.from_scratch9.hdf5'\n",
    "from keras.layers import Conv2D, MaxPooling2D, GlobalAveragePooling2D\n",
    "from keras.layers import Dropout, Flatten, Dense\n",
    "from keras.models import Sequential\n",
    "from keras import regularizers\n",
    "\n",
    "model = Sequential()\n",
    "\n",
    "### TODO: Define your architecture.\n",
    "#param = filters * kernel_size * kernel_size * channels + biases\n",
    "model.add(Conv2D(filters=16, kernel_size=3, strides=(1, 1), padding='valid', \n",
    "                 kernel_initializer='glorot_uniform', kernel_constraint=None,kernel_regularizer=None,\n",
    "                 data_format=None, dilation_rate=(1, 1), activation='relu', activity_regularizer=None, \n",
    "                 use_bias=True, bias_initializer='zeros', bias_regularizer=None, \n",
    "                 bias_constraint=None, input_shape=(224,224,3)))\n",
    "model.add(MaxPooling2D(pool_size=2))\n",
    "model.add(Conv2D(filters=32, kernel_size=3, strides=(1, 1), padding='valid', \n",
    "                 kernel_initializer='glorot_uniform', kernel_constraint=None,kernel_regularizer=None,\n",
    "                 data_format=None, dilation_rate=(1, 1), activation='relu', activity_regularizer=None, \n",
    "                 use_bias=True, bias_initializer='zeros', bias_regularizer=None, \n",
    "                 bias_constraint=None))\n",
    "model.add(MaxPooling2D(pool_size=2))\n",
    "model.add(GlobalAveragePooling2D())\n",
    "model.add(Dropout(0.25))\n",
    "model.add(Dense(500, activation='relu'))\n",
    "model.add(Dropout(0.25))\n",
    "model.add(Dense(133, activation='softmax'))\n",
    "model.summary()\n",
    "\n",
    "model.compile(optimizer='rmsprop', loss='categorical_crossentropy', metrics=['accuracy'])\n",
    "from keras.callbacks import ModelCheckpoint  \n",
    "\n",
    "### TODO: specify the number of epochs that you would like to use to train the model.\n",
    "\n",
    "epochs = 10\n",
    "batch_size=20\n",
    "\n",
    "### Do NOT modify the code below this line.\n",
    "\n",
    "checkpointer = ModelCheckpoint(filepath=best_model, \n",
    "                               verbose=1, save_best_only=True)\n",
    "         \n",
    "model.fit_generator(datagen_train.flow(train_tensors, train_targets, batch_size=batch_size),\n",
    "                    steps_per_epoch=train_tensors.shape[0] // batch_size,\n",
    "                    epochs=epochs, verbose=1, callbacks=[checkpointer],\n",
    "                    validation_data=datagen_valid.flow(valid_tensors, valid_targets, batch_size=batch_size),\n",
    "                    validation_steps=valid_tensors.shape[0] // batch_size)\n",
    "\n",
    "model.load_weights(best_model)\n",
    "# get index of predicted dog breed for each image in test set\n",
    "dog_breed_predictions = [np.argmax(model.predict(np.expand_dims(tensor, axis=0))) for tensor in test_tensors]\n",
    "\n",
    "# report test accuracy\n",
    "test_accuracy = 100*np.sum(np.array(dog_breed_predictions)==np.argmax(test_targets, axis=1))/len(dog_breed_predictions)\n",
    "print('Test accuracy: %.4f%%' % test_accuracy)"
   ]
  },
  {
   "cell_type": "markdown",
   "metadata": {},
   "source": [
    "---\n",
    "<a id='step4'></a>\n",
    "## Step 4: Use a CNN to Classify Dog Breeds\n",
    "\n",
    "To reduce training time without sacrificing accuracy, we show you how to train a CNN using transfer learning.  In the following step, you will get a chance to use transfer learning to train your own CNN.\n",
    "\n",
    "### Obtain Bottleneck Features"
   ]
  },
  {
   "cell_type": "code",
   "execution_count": 26,
   "metadata": {
    "collapsed": true
   },
   "outputs": [],
   "source": [
    "bottleneck_features = np.load('bottleneck_features/DogVGG16Data.npz')\n",
    "train_VGG16 = bottleneck_features['train']\n",
    "valid_VGG16 = bottleneck_features['valid']\n",
    "test_VGG16 = bottleneck_features['test']"
   ]
  },
  {
   "cell_type": "markdown",
   "metadata": {},
   "source": [
    "### Model Architecture\n",
    "\n",
    "The model uses the the pre-trained VGG-16 model as a fixed feature extractor, where the last convolutional output of VGG-16 is fed as input to our model.  We only add a global average pooling layer and a fully connected layer, where the latter contains one node for each dog category and is equipped with a softmax."
   ]
  },
  {
   "cell_type": "code",
   "execution_count": 27,
   "metadata": {},
   "outputs": [
    {
     "name": "stdout",
     "output_type": "stream",
     "text": [
      "_________________________________________________________________\n",
      "Layer (type)                 Output Shape              Param #   \n",
      "=================================================================\n",
      "global_average_pooling2d_10  (None, 512)               0         \n",
      "_________________________________________________________________\n",
      "dense_12 (Dense)             (None, 133)               68229     \n",
      "=================================================================\n",
      "Total params: 68,229\n",
      "Trainable params: 68,229\n",
      "Non-trainable params: 0\n",
      "_________________________________________________________________\n"
     ]
    }
   ],
   "source": [
    "VGG16_model = Sequential()\n",
    "VGG16_model.add(GlobalAveragePooling2D(input_shape=train_VGG16.shape[1:]))\n",
    "VGG16_model.add(Dense(133, activation='softmax'))\n",
    "\n",
    "VGG16_model.summary()"
   ]
  },
  {
   "cell_type": "markdown",
   "metadata": {},
   "source": [
    "### Compile the Model"
   ]
  },
  {
   "cell_type": "code",
   "execution_count": 28,
   "metadata": {
    "collapsed": true
   },
   "outputs": [],
   "source": [
    "VGG16_model.compile(loss='categorical_crossentropy', optimizer='rmsprop', metrics=['accuracy'])"
   ]
  },
  {
   "cell_type": "markdown",
   "metadata": {},
   "source": [
    "### Train the Model"
   ]
  },
  {
   "cell_type": "code",
   "execution_count": 29,
   "metadata": {},
   "outputs": [
    {
     "name": "stdout",
     "output_type": "stream",
     "text": [
      "Train on 6680 samples, validate on 835 samples\n",
      "Epoch 1/20\n",
      "6580/6680 [============================>.] - ETA: 0s - loss: 12.2843 - acc: 0.1169Epoch 00000: val_loss improved from inf to 11.11869, saving model to saved_models/weights.best.VGG16.hdf5\n",
      "6680/6680 [==============================] - 1s - loss: 12.2713 - acc: 0.1180 - val_loss: 11.1187 - val_acc: 0.1964\n",
      "Epoch 2/20\n",
      "6640/6680 [============================>.] - ETA: 0s - loss: 10.3268 - acc: 0.2673Epoch 00001: val_loss improved from 11.11869 to 10.23062, saving model to saved_models/weights.best.VGG16.hdf5\n",
      "6680/6680 [==============================] - 1s - loss: 10.3270 - acc: 0.2674 - val_loss: 10.2306 - val_acc: 0.2766\n",
      "Epoch 3/20\n",
      "6560/6680 [============================>.] - ETA: 0s - loss: 9.7291 - acc: 0.3341Epoch 00002: val_loss improved from 10.23062 to 9.98364, saving model to saved_models/weights.best.VGG16.hdf5\n",
      "6680/6680 [==============================] - 1s - loss: 9.7381 - acc: 0.3329 - val_loss: 9.9836 - val_acc: 0.3114\n",
      "Epoch 4/20\n",
      "6560/6680 [============================>.] - ETA: 0s - loss: 9.4872 - acc: 0.3645Epoch 00003: val_loss improved from 9.98364 to 9.89783, saving model to saved_models/weights.best.VGG16.hdf5\n",
      "6680/6680 [==============================] - 1s - loss: 9.4891 - acc: 0.3645 - val_loss: 9.8978 - val_acc: 0.3126\n",
      "Epoch 5/20\n",
      "6500/6680 [============================>.] - ETA: 0s - loss: 9.3750 - acc: 0.3865Epoch 00004: val_loss improved from 9.89783 to 9.78220, saving model to saved_models/weights.best.VGG16.hdf5\n",
      "6680/6680 [==============================] - 1s - loss: 9.3744 - acc: 0.3868 - val_loss: 9.7822 - val_acc: 0.3234\n",
      "Epoch 6/20\n",
      "6580/6680 [============================>.] - ETA: 0s - loss: 9.2260 - acc: 0.3989Epoch 00005: val_loss improved from 9.78220 to 9.71255, saving model to saved_models/weights.best.VGG16.hdf5\n",
      "6680/6680 [==============================] - 1s - loss: 9.2308 - acc: 0.3987 - val_loss: 9.7126 - val_acc: 0.3317\n",
      "Epoch 7/20\n",
      "6640/6680 [============================>.] - ETA: 0s - loss: 9.0731 - acc: 0.4170Epoch 00006: val_loss improved from 9.71255 to 9.62012, saving model to saved_models/weights.best.VGG16.hdf5\n",
      "6680/6680 [==============================] - 1s - loss: 9.0682 - acc: 0.4174 - val_loss: 9.6201 - val_acc: 0.3461\n",
      "Epoch 8/20\n",
      "6560/6680 [============================>.] - ETA: 0s - loss: 9.0293 - acc: 0.4256Epoch 00007: val_loss improved from 9.62012 to 9.55648, saving model to saved_models/weights.best.VGG16.hdf5\n",
      "6680/6680 [==============================] - 1s - loss: 9.0263 - acc: 0.4260 - val_loss: 9.5565 - val_acc: 0.3557\n",
      "Epoch 9/20\n",
      "6480/6680 [============================>.] - ETA: 0s - loss: 9.0255 - acc: 0.4298Epoch 00008: val_loss did not improve\n",
      "6680/6680 [==============================] - 1s - loss: 9.0025 - acc: 0.4311 - val_loss: 9.5577 - val_acc: 0.3533\n",
      "Epoch 10/20\n",
      "6480/6680 [============================>.] - ETA: 0s - loss: 8.9591 - acc: 0.4346Epoch 00009: val_loss improved from 9.55648 to 9.53565, saving model to saved_models/weights.best.VGG16.hdf5\n",
      "6680/6680 [==============================] - 1s - loss: 8.9627 - acc: 0.4341 - val_loss: 9.5356 - val_acc: 0.3485\n",
      "Epoch 11/20\n",
      "6560/6680 [============================>.] - ETA: 0s - loss: 8.7815 - acc: 0.4380Epoch 00010: val_loss improved from 9.53565 to 9.35544, saving model to saved_models/weights.best.VGG16.hdf5\n",
      "6680/6680 [==============================] - 1s - loss: 8.8034 - acc: 0.4365 - val_loss: 9.3554 - val_acc: 0.3521\n",
      "Epoch 12/20\n",
      "6540/6680 [============================>.] - ETA: 0s - loss: 8.6939 - acc: 0.4460Epoch 00011: val_loss improved from 9.35544 to 9.28906, saving model to saved_models/weights.best.VGG16.hdf5\n",
      "6680/6680 [==============================] - 1s - loss: 8.6809 - acc: 0.4470 - val_loss: 9.2891 - val_acc: 0.3593\n",
      "Epoch 13/20\n",
      "6560/6680 [============================>.] - ETA: 0s - loss: 8.4849 - acc: 0.4572Epoch 00012: val_loss improved from 9.28906 to 9.08823, saving model to saved_models/weights.best.VGG16.hdf5\n",
      "6680/6680 [==============================] - 1s - loss: 8.5062 - acc: 0.4558 - val_loss: 9.0882 - val_acc: 0.3737\n",
      "Epoch 14/20\n",
      "6560/6680 [============================>.] - ETA: 0s - loss: 8.3449 - acc: 0.4672Epoch 00013: val_loss improved from 9.08823 to 8.98252, saving model to saved_models/weights.best.VGG16.hdf5\n",
      "6680/6680 [==============================] - 1s - loss: 8.3441 - acc: 0.4675 - val_loss: 8.9825 - val_acc: 0.3796\n",
      "Epoch 15/20\n",
      "6600/6680 [============================>.] - ETA: 0s - loss: 8.2148 - acc: 0.4756Epoch 00014: val_loss improved from 8.98252 to 8.86001, saving model to saved_models/weights.best.VGG16.hdf5\n",
      "6680/6680 [==============================] - 1s - loss: 8.2139 - acc: 0.4757 - val_loss: 8.8600 - val_acc: 0.3892\n",
      "Epoch 16/20\n",
      "6660/6680 [============================>.] - ETA: 0s - loss: 8.0373 - acc: 0.4857Epoch 00015: val_loss improved from 8.86001 to 8.66630, saving model to saved_models/weights.best.VGG16.hdf5\n",
      "6680/6680 [==============================] - 1s - loss: 8.0351 - acc: 0.4859 - val_loss: 8.6663 - val_acc: 0.4024\n",
      "Epoch 17/20\n",
      "6580/6680 [============================>.] - ETA: 0s - loss: 7.8840 - acc: 0.4988Epoch 00016: val_loss improved from 8.66630 to 8.62018, saving model to saved_models/weights.best.VGG16.hdf5\n",
      "6680/6680 [==============================] - 1s - loss: 7.8782 - acc: 0.4990 - val_loss: 8.6202 - val_acc: 0.4048\n",
      "Epoch 18/20\n",
      "6560/6680 [============================>.] - ETA: 0s - loss: 7.7557 - acc: 0.5098Epoch 00017: val_loss improved from 8.62018 to 8.47895, saving model to saved_models/weights.best.VGG16.hdf5\n",
      "6680/6680 [==============================] - 1s - loss: 7.7733 - acc: 0.5088 - val_loss: 8.4790 - val_acc: 0.4180\n",
      "Epoch 19/20\n",
      "6560/6680 [============================>.] - ETA: 0s - loss: 7.7463 - acc: 0.5123Epoch 00018: val_loss did not improve\n",
      "6680/6680 [==============================] - 1s - loss: 7.7519 - acc: 0.5121 - val_loss: 8.4879 - val_acc: 0.4132\n",
      "Epoch 20/20\n",
      "6560/6680 [============================>.] - ETA: 0s - loss: 7.7063 - acc: 0.5163Epoch 00019: val_loss did not improve\n",
      "6680/6680 [==============================] - 1s - loss: 7.7449 - acc: 0.5139 - val_loss: 8.6133 - val_acc: 0.4072\n"
     ]
    },
    {
     "data": {
      "text/plain": [
       "<keras.callbacks.History at 0x7f72d1db0fd0>"
      ]
     },
     "execution_count": 29,
     "metadata": {},
     "output_type": "execute_result"
    }
   ],
   "source": [
    "checkpointer = ModelCheckpoint(filepath='saved_models/weights.best.VGG16.hdf5', \n",
    "                               verbose=1, save_best_only=True)\n",
    "\n",
    "VGG16_model.fit(train_VGG16, train_targets, \n",
    "          validation_data=(valid_VGG16, valid_targets),\n",
    "          epochs=20, batch_size=20, callbacks=[checkpointer], verbose=1)\n",
    "\n"
   ]
  },
  {
   "cell_type": "markdown",
   "metadata": {},
   "source": [
    "### Load the Model with the Best Validation Loss"
   ]
  },
  {
   "cell_type": "code",
   "execution_count": 30,
   "metadata": {
    "collapsed": true
   },
   "outputs": [],
   "source": [
    "VGG16_model.load_weights('saved_models/weights.best.VGG16.hdf5')"
   ]
  },
  {
   "cell_type": "markdown",
   "metadata": {},
   "source": [
    "### Test the Model\n",
    "\n",
    "Now, we can use the CNN to test how well it identifies breed within our test dataset of dog images.  We print the test accuracy below."
   ]
  },
  {
   "cell_type": "code",
   "execution_count": 31,
   "metadata": {},
   "outputs": [
    {
     "name": "stdout",
     "output_type": "stream",
     "text": [
      "Test accuracy: 41.5072%\n"
     ]
    }
   ],
   "source": [
    "# get index of predicted dog breed for each image in test set\n",
    "VGG16_predictions = [np.argmax(VGG16_model.predict(np.expand_dims(feature, axis=0))) for feature in test_VGG16]\n",
    "\n",
    "# report test accuracy\n",
    "test_accuracy = 100*np.sum(np.array(VGG16_predictions)==np.argmax(test_targets, axis=1))/len(VGG16_predictions)\n",
    "print('Test accuracy: %.4f%%' % test_accuracy)"
   ]
  },
  {
   "cell_type": "markdown",
   "metadata": {},
   "source": [
    "### Predict Dog Breed with the Model"
   ]
  },
  {
   "cell_type": "code",
   "execution_count": 32,
   "metadata": {
    "collapsed": true
   },
   "outputs": [],
   "source": [
    "from extract_bottleneck_features import *\n",
    "\n",
    "def VGG16_predict_breed(img_path):\n",
    "    # extract bottleneck features\n",
    "    bottleneck_feature = extract_VGG16(path_to_tensor(img_path))\n",
    "    # obtain predicted vector\n",
    "    predicted_vector = VGG16_model.predict(bottleneck_feature)\n",
    "    # return dog breed that is predicted by the model\n",
    "    return dog_names[np.argmax(predicted_vector)]"
   ]
  },
  {
   "cell_type": "markdown",
   "metadata": {},
   "source": [
    "---\n",
    "<a id='step5'></a>\n",
    "## Step 5: Create a CNN to Classify Dog Breeds (using Transfer Learning)\n",
    "\n",
    "You will now use transfer learning to create a CNN that can identify dog breed from images.  Your CNN must attain at least 60% accuracy on the test set.\n",
    "\n",
    "In Step 4, we used transfer learning to create a CNN using VGG-16 bottleneck features.  In this section, you must use the bottleneck features from a different pre-trained model.  To make things easier for you, we have pre-computed the features for all of the networks that are currently available in Keras:\n",
    "- [VGG-19](https://s3-us-west-1.amazonaws.com/udacity-aind/dog-project/DogVGG19Data.npz) bottleneck features\n",
    "- [ResNet-50](https://s3-us-west-1.amazonaws.com/udacity-aind/dog-project/DogResnet50Data.npz) bottleneck features\n",
    "- [Inception](https://s3-us-west-1.amazonaws.com/udacity-aind/dog-project/DogInceptionV3Data.npz) bottleneck features\n",
    "- [Xception](https://s3-us-west-1.amazonaws.com/udacity-aind/dog-project/DogXceptionData.npz) bottleneck features\n",
    "\n",
    "The files are encoded as such:\n",
    "\n",
    "    Dog{network}Data.npz\n",
    "    \n",
    "where `{network}`, in the above filename, can be one of `VGG19`, `Resnet50`, `InceptionV3`, or `Xception`.  Pick one of the above architectures, download the corresponding bottleneck features, and store the downloaded file in the `bottleneck_features/` folder in the repository.\n",
    "\n",
    "### (IMPLEMENTATION) Obtain Bottleneck Features\n",
    "\n",
    "In the code block below, extract the bottleneck features corresponding to the train, test, and validation sets by running the following:\n",
    "\n",
    "    bottleneck_features = np.load('bottleneck_features/Dog{network}Data.npz')\n",
    "    train_{network} = bottleneck_features['train']\n",
    "    valid_{network} = bottleneck_features['valid']\n",
    "    test_{network} = bottleneck_features['test']"
   ]
  },
  {
   "cell_type": "code",
   "execution_count": 1,
   "metadata": {
    "scrolled": true
   },
   "outputs": [
    {
     "name": "stderr",
     "output_type": "stream",
     "text": [
      "Using TensorFlow backend.\n"
     ]
    }
   ],
   "source": [
    "### TODO: Obtain bottleneck features from another pre-trained CNN.\n",
    "\n",
    "import numpy as np\n",
    "bottleneck_features = np.load('bottleneck_features/DogResnet50Data.npz')\n",
    "train_Resnet50 = bottleneck_features['train']\n",
    "valid_Resnet50 = bottleneck_features['valid']\n",
    "test_Resnet50 = bottleneck_features['test']\n",
    "\n",
    "from keras.preprocessing.image import ImageDataGenerator\n",
    "from extract_bottleneck_features import *\n",
    "\n",
    "datagen_train = ImageDataGenerator(\n",
    "    width_shift_range=0.1,  # randomly shift images horizontally (10% of total width)\n",
    "    height_shift_range=0.1,  # randomly shift images vertically (10% of total height)\n",
    "    horizontal_flip=True) # randomly flip images horizontally\n",
    "\n",
    "datagen_valid = ImageDataGenerator(\n",
    "    width_shift_range=0.1,  # randomly shift images horizontally (10% of total width)\n",
    "    height_shift_range=0.1,  # randomly shift images vertically (10% of total height)\n",
    "    horizontal_flip=True) # randomly flip images horizontally\n"
   ]
  },
  {
   "cell_type": "markdown",
   "metadata": {},
   "source": [
    "### (IMPLEMENTATION) Model Architecture\n",
    "\n",
    "Create a CNN to classify dog breed.  At the end of your code cell block, summarize the layers of your model by executing the line:\n",
    "    \n",
    "        <your model's name>.summary()\n",
    "   \n",
    "__Question 5:__ Outline the steps you took to get to your final CNN architecture and your reasoning at each step.  Describe why you think the architecture is suitable for the current problem.\n",
    "\n",
    "__Answer:__ \n",
    "\n"
   ]
  },
  {
   "cell_type": "code",
   "execution_count": 2,
   "metadata": {},
   "outputs": [
    {
     "name": "stdout",
     "output_type": "stream",
     "text": [
      "_________________________________________________________________\n",
      "Layer (type)                 Output Shape              Param #   \n",
      "=================================================================\n",
      "global_average_pooling2d_1 ( (None, 2048)              0         \n",
      "_________________________________________________________________\n",
      "dense_1 (Dense)              (None, 133)               272517    \n",
      "=================================================================\n",
      "Total params: 272,517\n",
      "Trainable params: 272,517\n",
      "Non-trainable params: 0\n",
      "_________________________________________________________________\n"
     ]
    }
   ],
   "source": [
    "### TODO: Define your architecture.\n",
    "from keras.models import Sequential\n",
    "from keras.layers import GlobalAveragePooling2D, Dense\n",
    "Resnet50_model = Sequential()\n",
    "Resnet50_model.add(GlobalAveragePooling2D(input_shape=train_Resnet50.shape[1:]))\n",
    "Resnet50_model.add(Dense(133, activation='softmax'))\n",
    "Resnet50_model.summary()"
   ]
  },
  {
   "cell_type": "markdown",
   "metadata": {},
   "source": [
    "### (IMPLEMENTATION) Compile the Model"
   ]
  },
  {
   "cell_type": "code",
   "execution_count": 3,
   "metadata": {
    "collapsed": true
   },
   "outputs": [],
   "source": [
    "### TODO: Compile the model.\n",
    "Resnet50_model.compile(loss='categorical_crossentropy', optimizer='rmsprop', metrics=['accuracy'])"
   ]
  },
  {
   "cell_type": "markdown",
   "metadata": {},
   "source": [
    "### (IMPLEMENTATION) Train the Model\n",
    "\n",
    "Train your model in the code cell below.  Use model checkpointing to save the model that attains the best validation loss.  \n",
    "\n",
    "You are welcome to [augment the training data](https://blog.keras.io/building-powerful-image-classification-models-using-very-little-data.html), but this is not a requirement. "
   ]
  },
  {
   "cell_type": "code",
   "execution_count": 6,
   "metadata": {
    "scrolled": true
   },
   "outputs": [
    {
     "name": "stdout",
     "output_type": "stream",
     "text": [
      "Train on 6680 samples, validate on 835 samples\n",
      "Epoch 1/20\n",
      "6560/6680 [============================>.] - ETA: 0s - loss: 1.6228 - acc: 0.6015Epoch 00000: val_loss improved from inf to 0.84523, saving model to saved_models/weights.best.Resnet50.hdf5\n",
      "6680/6680 [==============================] - 5s - loss: 1.6067 - acc: 0.6042 - val_loss: 0.8452 - val_acc: 0.7473\n",
      "Epoch 2/20\n",
      "6540/6680 [============================>.] - ETA: 0s - loss: 0.4373 - acc: 0.8589Epoch 00001: val_loss improved from 0.84523 to 0.73891, saving model to saved_models/weights.best.Resnet50.hdf5\n",
      "6680/6680 [==============================] - 1s - loss: 0.4380 - acc: 0.8584 - val_loss: 0.7389 - val_acc: 0.7820\n",
      "Epoch 3/20\n",
      "6400/6680 [===========================>..] - ETA: 0s - loss: 0.2602 - acc: 0.9184Epoch 00002: val_loss improved from 0.73891 to 0.65255, saving model to saved_models/weights.best.Resnet50.hdf5\n",
      "6680/6680 [==============================] - 1s - loss: 0.2630 - acc: 0.9175 - val_loss: 0.6526 - val_acc: 0.7976\n",
      "Epoch 4/20\n",
      "6560/6680 [============================>.] - ETA: 0s - loss: 0.1700 - acc: 0.9451Epoch 00003: val_loss did not improve\n",
      "6680/6680 [==============================] - 1s - loss: 0.1709 - acc: 0.9446 - val_loss: 0.6891 - val_acc: 0.8120\n",
      "Epoch 5/20\n",
      "6600/6680 [============================>.] - ETA: 0s - loss: 0.1222 - acc: 0.9609Epoch 00004: val_loss did not improve\n",
      "6680/6680 [==============================] - 1s - loss: 0.1224 - acc: 0.9609 - val_loss: 0.6908 - val_acc: 0.8060\n",
      "Epoch 6/20\n",
      "6580/6680 [============================>.] - ETA: 0s - loss: 0.0860 - acc: 0.9764Epoch 00005: val_loss did not improve\n",
      "6680/6680 [==============================] - 1s - loss: 0.0867 - acc: 0.9762 - val_loss: 0.7111 - val_acc: 0.8012\n",
      "Epoch 7/20\n",
      "6620/6680 [============================>.] - ETA: 0s - loss: 0.0638 - acc: 0.9808Epoch 00006: val_loss did not improve\n",
      "6680/6680 [==============================] - 1s - loss: 0.0639 - acc: 0.9807 - val_loss: 0.6814 - val_acc: 0.8240\n",
      "Epoch 8/20\n",
      "6520/6680 [============================>.] - ETA: 0s - loss: 0.0478 - acc: 0.9870Epoch 00007: val_loss did not improve\n",
      "6680/6680 [==============================] - 1s - loss: 0.0479 - acc: 0.9870 - val_loss: 0.7157 - val_acc: 0.8263\n",
      "Epoch 9/20\n",
      "6640/6680 [============================>.] - ETA: 0s - loss: 0.0365 - acc: 0.9898Epoch 00008: val_loss did not improve\n",
      "6680/6680 [==============================] - 1s - loss: 0.0370 - acc: 0.9897 - val_loss: 0.7777 - val_acc: 0.8096\n",
      "Epoch 10/20\n",
      "6580/6680 [============================>.] - ETA: 0s - loss: 0.0277 - acc: 0.9922- ETA: 1s - lossEpoch 00009: val_loss did not improve\n",
      "6680/6680 [==============================] - 1s - loss: 0.0279 - acc: 0.9922 - val_loss: 0.7718 - val_acc: 0.8204\n",
      "Epoch 11/20\n",
      "6640/6680 [============================>.] - ETA: 0s - loss: 0.0218 - acc: 0.9940Epoch 00010: val_loss did not improve\n",
      "6680/6680 [==============================] - 1s - loss: 0.0219 - acc: 0.9939 - val_loss: 0.7485 - val_acc: 0.8240\n",
      "Epoch 12/20\n",
      "6620/6680 [============================>.] - ETA: 0s - loss: 0.0166 - acc: 0.9962Epoch 00011: val_loss did not improve\n",
      "6680/6680 [==============================] - 1s - loss: 0.0167 - acc: 0.9961 - val_loss: 0.7871 - val_acc: 0.8299\n",
      "Epoch 13/20\n",
      "6600/6680 [============================>.] - ETA: 0s - loss: 0.0129 - acc: 0.9974Epoch 00012: val_loss did not improve\n",
      "6680/6680 [==============================] - 1s - loss: 0.0128 - acc: 0.9975 - val_loss: 0.7734 - val_acc: 0.8359\n",
      "Epoch 14/20\n",
      "6640/6680 [============================>.] - ETA: 0s - loss: 0.0116 - acc: 0.9970Epoch 00013: val_loss did not improve\n",
      "6680/6680 [==============================] - 1s - loss: 0.0117 - acc: 0.9970 - val_loss: 0.8930 - val_acc: 0.8228\n",
      "Epoch 15/20\n",
      "6560/6680 [============================>.] - ETA: 0s - loss: 0.0081 - acc: 0.9974Epoch 00014: val_loss did not improve\n",
      "6680/6680 [==============================] - 1s - loss: 0.0090 - acc: 0.9970 - val_loss: 0.8989 - val_acc: 0.8144\n",
      "Epoch 16/20\n",
      "6600/6680 [============================>.] - ETA: 0s - loss: 0.0082 - acc: 0.9980Epoch 00015: val_loss did not improve\n",
      "6680/6680 [==============================] - 1s - loss: 0.0082 - acc: 0.9981 - val_loss: 0.9130 - val_acc: 0.8323\n",
      "Epoch 17/20\n",
      "6560/6680 [============================>.] - ETA: 0s - loss: 0.0082 - acc: 0.9980Epoch 00016: val_loss did not improve\n",
      "6680/6680 [==============================] - 1s - loss: 0.0081 - acc: 0.9981 - val_loss: 0.9029 - val_acc: 0.8275\n",
      "Epoch 18/20\n",
      "6440/6680 [===========================>..] - ETA: 0s - loss: 0.0073 - acc: 0.9981Epoch 00017: val_loss did not improve\n",
      "6680/6680 [==============================] - 1s - loss: 0.0075 - acc: 0.9979 - val_loss: 0.8956 - val_acc: 0.8263\n",
      "Epoch 19/20\n",
      "6660/6680 [============================>.] - ETA: 0s - loss: 0.0056 - acc: 0.9985Epoch 00018: val_loss did not improve\n",
      "6680/6680 [==============================] - 1s - loss: 0.0056 - acc: 0.9985 - val_loss: 0.9167 - val_acc: 0.8287\n",
      "Epoch 20/20\n",
      "6380/6680 [===========================>..] - ETA: 0s - loss: 0.0053 - acc: 0.9981Epoch 00019: val_loss did not improve\n",
      "6680/6680 [==============================] - 1s - loss: 0.0052 - acc: 0.9981 - val_loss: 0.9421 - val_acc: 0.8359\n"
     ]
    },
    {
     "data": {
      "text/plain": [
       "<keras.callbacks.History at 0x7f92d008beb8>"
      ]
     },
     "execution_count": 6,
     "metadata": {},
     "output_type": "execute_result"
    }
   ],
   "source": [
    "from keras.callbacks import ModelCheckpoint\n",
    "checkpointer = ModelCheckpoint(filepath = 'saved_models/weights.best.Resnet50.hdf5', verbose=1, save_best_only=True)\n",
    "Resnet50_model.fit(train_Resnet50, train_targets,\n",
    "                  validation_data=(valid_Resnet50, valid_targets),\n",
    "                  epochs=20, batch_size=20, callbacks=[checkpointer],verbose=1)\n"
   ]
  },
  {
   "cell_type": "markdown",
   "metadata": {},
   "source": [
    "### (IMPLEMENTATION) Load the Model with the Best Validation Loss"
   ]
  },
  {
   "cell_type": "code",
   "execution_count": 7,
   "metadata": {
    "collapsed": true
   },
   "outputs": [],
   "source": [
    "### TODO: Load the model weights with the best validation loss.\n",
    "Resnet50_model.load_weights('saved_models/weights.best.Resnet50.hdf5')"
   ]
  },
  {
   "cell_type": "markdown",
   "metadata": {},
   "source": [
    "### (IMPLEMENTATION) Test the Model\n",
    "\n",
    "Try out your model on the test dataset of dog images. Ensure that your test accuracy is greater than 60%."
   ]
  },
  {
   "cell_type": "code",
   "execution_count": 8,
   "metadata": {},
   "outputs": [
    {
     "name": "stdout",
     "output_type": "stream",
     "text": [
      "Test accuracy: 80.0239%\n"
     ]
    }
   ],
   "source": [
    "### TODO: Calculate classification accuracy on the test dataset.\n",
    "Resnet50_predictions = [np.argmax(Resnet50_model.predict(np.expand_dims(feature, axis=0))) for feature in test_Resnet50]\n",
    "\n",
    "# report test accuracy\n",
    "test_accuracy = 100*np.sum(np.array(Resnet50_predictions)==np.argmax(test_targets, axis=1))/len(Resnet50_predictions)\n",
    "print('Test accuracy: %.4f%%' % test_accuracy)"
   ]
  },
  {
   "cell_type": "markdown",
   "metadata": {},
   "source": [
    "### (IMPLEMENTATION) Predict Dog Breed with the Model\n",
    "\n",
    "Write a function that takes an image path as input and returns the dog breed (`Affenpinscher`, `Afghan_hound`, etc) that is predicted by your model.  \n",
    "\n",
    "Similar to the analogous function in Step 5, your function should have three steps:\n",
    "1. Extract the bottleneck features corresponding to the chosen CNN model.\n",
    "2. Supply the bottleneck features as input to the model to return the predicted vector.  Note that the argmax of this prediction vector gives the index of the predicted dog breed.\n",
    "3. Use the `dog_names` array defined in Step 0 of this notebook to return the corresponding breed.\n",
    "\n",
    "The functions to extract the bottleneck features can be found in `extract_bottleneck_features.py`, and they have been imported in an earlier code cell.  To obtain the bottleneck features corresponding to your chosen CNN architecture, you need to use the function\n",
    "\n",
    "    extract_{network}\n",
    "    \n",
    "where `{network}`, in the above filename, should be one of `VGG19`, `Resnet50`, `InceptionV3`, or `Xception`."
   ]
  },
  {
   "cell_type": "code",
   "execution_count": 27,
   "metadata": {
    "collapsed": true
   },
   "outputs": [],
   "source": [
    "### TODO: Write a function that takes a path to an image as input\n",
    "### and returns the dog breed that is predicted by the model.\n",
    "from extract_bottleneck_features import *\n",
    "\n",
    "def Resnet50_predict_breed(img_path):\n",
    "    # extract bottleneck features\n",
    "    bottleneck_feature = extract_Resnet50(path_to_tensor(img_path))\n",
    "    # obtain predicted vector\n",
    "    predicted_vector = Resnet50_model.predict(bottleneck_feature)\n",
    "    # return dog breed that is predicted by the model\n",
    "    return dog_names[np.argmax(predicted_vector)]"
   ]
  },
  {
   "cell_type": "markdown",
   "metadata": {},
   "source": [
    "---\n",
    "<a id='step6'></a>\n",
    "## Step 6: Write your Algorithm\n",
    "\n",
    "Write an algorithm that accepts a file path to an image and first determines whether the image contains a human, dog, or neither.  Then,\n",
    "- if a __dog__ is detected in the image, return the predicted breed.\n",
    "- if a __human__ is detected in the image, return the resembling dog breed.\n",
    "- if __neither__ is detected in the image, provide output that indicates an error.\n",
    "\n",
    "You are welcome to write your own functions for detecting humans and dogs in images, but feel free to use the `face_detector` and `dog_detector` functions developed above.  You are __required__ to use your CNN from Step 5 to predict dog breed.  \n",
    "\n",
    "Some sample output for our algorithm is provided below, but feel free to design your own user experience!\n",
    "\n",
    "![Sample Human Output](images/sample_human_output.png)\n",
    "\n",
    "\n",
    "### (IMPLEMENTATION) Write your Algorithm"
   ]
  },
  {
   "cell_type": "code",
   "execution_count": 29,
   "metadata": {},
   "outputs": [
    {
     "data": {
      "image/png": "[encoded data removed]",
      "text/plain": [
       "<matplotlib.figure.Figure at 0x7f92a440ac88>"
      ]
     },
     "metadata": {},
     "output_type": "display_data"
    },
    {
     "name": "stdout",
     "output_type": "stream",
     "text": [
      "You are a dog and your breed is Kuvasz!\n"
     ]
    }
   ],
   "source": [
    "### TODO: Write your algorithm.\n",
    "### Feel free to use as many code cells as needed.\n",
    "def detect_species(img_path):\n",
    "    img=cv2.imread(img_path)\n",
    "    cv_rgb=cv2.cvtColor(img, cv2.COLOR_BGR2RGB)\n",
    "    plt.imshow(cv_rgb)\n",
    "    plt.show()\n",
    "    if dog_detector(img_path):\n",
    "        print(\"You are a dog and your breed is {0}!\".format(Resnet50_predict_breed(img_path)))\n",
    "    elif face_detector(img_path):\n",
    "        print(\"You are human but interestingly you resemble a {0}!\".format(Resnet50_predict_bredd(img_path)))\n",
    "    else: print(\"Can not detect your species. Sorry!\")\n",
    "\n",
    "detect_species(train_files[1])"
   ]
  },
  {
   "cell_type": "markdown",
   "metadata": {},
   "source": [
    "---\n",
    "<a id='step7'></a>\n",
    "## Step 7: Test Your Algorithm\n",
    "\n",
    "In this section, you will take your new algorithm for a spin!  What kind of dog does the algorithm think that __you__ look like?  If you have a dog, does it predict your dog's breed accurately?  If you have a cat, does it mistakenly think that your cat is a dog?\n",
    "\n",
    "### (IMPLEMENTATION) Test Your Algorithm on Sample Images!\n",
    "\n",
    "Test your algorithm at least six images on your computer.  Feel free to use any images you like.  Use at least two human and two dog images.  \n",
    "\n",
    "__Question 6:__ Is the output better than you expected :) ?  Or worse :( ?  Provide at least three possible points of improvement for your algorithm.\n",
    "\n",
    "__Answer:__ "
   ]
  },
  {
   "cell_type": "code",
   "execution_count": null,
   "metadata": {
    "collapsed": true
   },
   "outputs": [],
   "source": [
    "## TODO: Execute your algorithm from Step 6 on\n",
    "## at least 6 images on your computer.\n",
    "## Feel free to use as many code cells as needed.\n"
   ]
  }
 ],
 "metadata": {
  "anaconda-cloud": {},
  "kernelspec": {
   "display_name": "Python 3",
   "language": "python",
   "name": "python3"
  },
  "language_info": {
   "codemirror_mode": {
    "name": "ipython",
    "version": 3
   },
   "file_extension": ".py",
   "mimetype": "text/x-python",
   "name": "python",
   "nbconvert_exporter": "python",
   "pygments_lexer": "ipython3",
   "version": "3.6.1"
  }
 },
 "nbformat": 4,
 "nbformat_minor": 1
}
